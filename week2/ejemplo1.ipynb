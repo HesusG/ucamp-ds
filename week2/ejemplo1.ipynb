{
 "cells": [
  {
   "attachments": {},
   "cell_type": "markdown",
   "metadata": {},
   "source": [
    "### Semana 2"
   ]
  },
  {
   "attachments": {},
   "cell_type": "markdown",
   "metadata": {},
   "source": [
    "¡Bienvenido a esta sesión! En esta oportunidad estaremos explorando los fundamentos de la programación en Python, centrándonos en la comprensión de los tipos de variables, tuplas, listas, diccionarios y funciones de control.\n",
    "\n",
    "La programación es una herramienta invaluable en el mundo actual, y Python es uno de los lenguajes de programación más populares en la actualidad debido a su facilidad de aprendizaje y su versatilidad. Aprender los conceptos básicos de la programación en Python es el primer paso para convertirse en un programador efectivo y resolver problemas de manera creativa.\n",
    "\n",
    "Durante esta Jupyter Notebook, exploraremos los diferentes tipos de variables en Python y cómo se utilizan en la programación. También abordaremos las tuplas, las listas y los diccionarios, y aprenderemos cómo se pueden utilizar para almacenar y manipular datos. Además, estudiaremos las funciones de control, como las instrucciones de toma de decisiones y las estructuras de bucle, y cómo se pueden utilizar para controlar el flujo de un programa.\n",
    "\n",
    "Este es un contenido importante y fundamental para cualquier persona interesada en aprender programación. ¡Así que prepárate para sumergirte en el mundo de Python!"
   ]
  },
  {
   "attachments": {},
   "cell_type": "markdown",
   "metadata": {},
   "source": [
    "### Tipos de Variables y Datos"
   ]
  },
  {
   "cell_type": "code",
   "execution_count": 1,
   "metadata": {},
   "outputs": [
    {
     "name": "stdout",
     "output_type": "stream",
     "text": [
      "La variable contiene:\n",
      "4\n",
      "Su tipo de dato es...\n",
      "<class 'int'>\n"
     ]
    }
   ],
   "source": [
    "# Definimos una variable de tipo entero\n",
    "variable = 4\n",
    "\n",
    "# Mostramos el valor de la variable en la consola\n",
    "print(\"La variable contiene:\")\n",
    "print(variable)\n",
    "\n",
    "# Mostramos el tipo de dato de la variable en la consola\n",
    "print(\"Su tipo de dato es...\")\n",
    "print(type(variable))"
   ]
  },
  {
   "attachments": {},
   "cell_type": "markdown",
   "metadata": {},
   "source": [
    "En este código, estamos asignando el valor entero 4 a la variable variable. Luego, utilizamos la función print() para mostrar en la consola el contenido de la variable variable. También utilizamos la función type() para mostrar el tipo de dato de la variable.\n",
    "\n",
    "En programación, una variable es un espacio de memoria que se utiliza para almacenar un valor. En este caso, la variable variable almacena el valor entero 4. Los tipos de datos son importantes en programación porque determinan cómo se puede manipular un valor. En este caso, el tipo de dato de la variable es int (entero en español), lo que significa que el valor almacenado es un número entero y puede ser utilizado en operaciones matemáticas.\n",
    "\n",
    "El uso de funciones como print() y type() es muy común en programación, ya que nos permiten obtener información importante sobre nuestro código\n",
    "\n",
    "En Python, los comentarios se crean utilizando el símbolo #. Todo lo que escribamos después de este símbolo será ignorado por el intérprete de Python y no afectará el funcionamiento del código."
   ]
  },
  {
   "cell_type": "code",
   "execution_count": 20,
   "metadata": {},
   "outputs": [
    {
     "name": "stdout",
     "output_type": "stream",
     "text": [
      "la variable ahora contiene: \n",
      "4.5\n",
      "Su tipo de dato ahora es...\n",
      "<class 'float'>\n"
     ]
    }
   ],
   "source": [
    "# Comentarios\n",
    "variable = 4.5\n",
    "print(\"la variable ahora contiene: \")\n",
    "print(variable)\n",
    "print(\"Su tipo de dato ahora es...\")\n",
    "print(type(variable))"
   ]
  },
  {
   "cell_type": "code",
   "execution_count": 3,
   "metadata": {},
   "outputs": [
    {
     "name": "stdout",
     "output_type": "stream",
     "text": [
      "la variable ahora contiene: \n",
      "tengo un montón de ricos cocos\n",
      "Su tipo de dato finalmente es...\n",
      "<class 'str'>\n"
     ]
    }
   ],
   "source": [
    "variable = \"tengo un montón de ricos cocos\"\n",
    "print(\"la variable ahora contiene: \")\n",
    "print(variable)\n",
    "print(\"Su tipo de dato finalmente es...\")\n",
    "print(type(variable))"
   ]
  },
  {
   "attachments": {},
   "cell_type": "markdown",
   "metadata": {},
   "source": [
    "### Tuplas, Listas y Diccionarios"
   ]
  },
  {
   "cell_type": "code",
   "execution_count": 4,
   "metadata": {},
   "outputs": [],
   "source": [
    "numeros = [1, 2, 3, 4, 5]  # una lista de números enteros"
   ]
  },
  {
   "cell_type": "code",
   "execution_count": 5,
   "metadata": {},
   "outputs": [
    {
     "name": "stdout",
     "output_type": "stream",
     "text": [
      "[1, 2, 3]\n"
     ]
    }
   ],
   "source": [
    "lista = []\n",
    "\n",
    "# Agregar elementos a la lista\n",
    "lista.append(1)\n",
    "lista.append(2)\n",
    "lista.append(3)\n",
    "\n",
    "print(lista) # Salida: [1, 2, 3]"
   ]
  },
  {
   "cell_type": "code",
   "execution_count": 6,
   "metadata": {},
   "outputs": [
    {
     "name": "stdout",
     "output_type": "stream",
     "text": [
      "[1, 4, 2, 3]\n"
     ]
    }
   ],
   "source": [
    "# Crear una lista\n",
    "lista = [1, 2, 3]\n",
    "\n",
    "# Insertar un elemento en la posición 1\n",
    "lista.insert(1, 4)\n",
    "\n",
    "print(lista) # Salida: [1, 4, 2, 3]"
   ]
  },
  {
   "cell_type": "code",
   "execution_count": 7,
   "metadata": {},
   "outputs": [
    {
     "name": "stdout",
     "output_type": "stream",
     "text": [
      "[1, 3, 2]\n"
     ]
    }
   ],
   "source": [
    "# Crear una lista\n",
    "lista = [1, 2, 3, 2]\n",
    "\n",
    "# Eliminar el elemento con valor 2\n",
    "lista.remove(2)\n",
    "\n",
    "print(lista) # Salida: [1, 3, 2]"
   ]
  },
  {
   "attachments": {},
   "cell_type": "markdown",
   "metadata": {},
   "source": [
    "Las listas en Python tienen una gran cantidad de métodos integrados que se pueden utilizar para manipular y trabajar con los datos almacenados en ellas. Algunos de los métodos más comunes son:\n",
    "\n",
    "append(): agrega un elemento al final de la lista <br>\n",
    "insert(): inserta un elemento en una posición específica de la lista\n",
    "extend(): agrega múltiples elementos al final de la lista\n",
    "remove(): elimina el primer elemento con el valor dado de la lista\n",
    "pop(): elimina y devuelve el último elemento de la lista\n",
    "index(): devuelve la posición del primer elemento con el valor dado en la lista\n",
    "count(): cuenta el número de elementos con el valor dado en la lista\n",
    "sort(): ordena la lista en orden ascendente\n",
    "reverse(): invierte el orden de los elementos en la lista\n"
   ]
  },
  {
   "cell_type": "code",
   "execution_count": 8,
   "metadata": {},
   "outputs": [
    {
     "name": "stdout",
     "output_type": "stream",
     "text": [
      "La tupla contiene:\n",
      "('Juan', 25, 'México')\n",
      "El tipo de dato finalmente es...\n",
      "<class 'tuple'>\n"
     ]
    }
   ],
   "source": [
    "persona = (\"Juan\", 25, \"México\")\n",
    "\n",
    "# Mostramos la tupla en la consola\n",
    "print(\"La tupla contiene:\")\n",
    "print(persona)\n",
    "\n",
    "# Mostramos el tipo de dato de la variable\n",
    "print(\"El tipo de dato finalmente es...\")\n",
    "print(type(persona))"
   ]
  },
  {
   "cell_type": "code",
   "execution_count": 9,
   "metadata": {},
   "outputs": [
    {
     "name": "stdout",
     "output_type": "stream",
     "text": [
      "El número 2 aparece 2 veces en la tupla\n",
      "El número 3 está en la posición 2 de la tupla\n"
     ]
    }
   ],
   "source": [
    "# Creación de una tupla\n",
    "tupla = (1, 2, 3, 4, 2, 5)\n",
    "\n",
    "# Método count - Retorna el número de veces que un elemento aparece en la tupla\n",
    "count_2 = tupla.count(2)\n",
    "print(\"El número 2 aparece\", count_2, \"veces en la tupla\")\n",
    "\n",
    "# Método index - Retorna el índice de la primera ocurrencia de un elemento en la tupla\n",
    "index_3 = tupla.index(3)\n",
    "print(\"El número 3 está en la posición\", index_3, \"de la tupla\")"
   ]
  },
  {
   "attachments": {},
   "cell_type": "markdown",
   "metadata": {},
   "source": [
    "Las tuplas en Python son similares a las listas, pero a diferencia de las listas, las tuplas son inmutables, lo que significa que no se pueden modificar una vez creadas. Debido a su naturaleza inmutable, las tuplas tienen menos métodos en comparación con las listas. "
   ]
  },
  {
   "attachments": {},
   "cell_type": "markdown",
   "metadata": {},
   "source": [
    "En este ejemplo, creamos una tupla llamada persona que contiene información sobre una persona ficticia, incluyendo su nombre, edad y país de origen. Luego, mostramos la tupla en la consola utilizando la función print()."
   ]
  },
  {
   "cell_type": "code",
   "execution_count": 10,
   "metadata": {},
   "outputs": [
    {
     "name": "stdout",
     "output_type": "stream",
     "text": [
      "El diccionario contiene:\n",
      "{'nombre': 'Ana', 'edad': 30, 'correo': 'ana@mail.com'}\n",
      "El nombre del cliente es:\n",
      "Ana\n",
      "El diccionario actualizado es:\n",
      "{'nombre': 'Ana', 'edad': 30, 'correo': 'ana@mail.com', 'telefono': '555-1234'}\n"
     ]
    }
   ],
   "source": [
    "# Creamos un diccionario con información de un cliente\n",
    "cliente = {\"nombre\": \"Ana\",\n",
    "            \"edad\": 30, \n",
    "            \"correo\": \"ana@mail.com\"}\n",
    "\n",
    "# Mostramos el diccionario en la consola\n",
    "print(\"El diccionario contiene:\")\n",
    "print(cliente)\n",
    "\n",
    "# Accedemos a un valor específico del diccionario\n",
    "print(\"El nombre del cliente es:\")\n",
    "print(cliente[\"nombre\"])\n",
    "\n",
    "# Agregamos una nueva llave y valor al diccionario\n",
    "cliente[\"telefono\"] = \"555-1234\"\n",
    "\n",
    "# Mostramos el diccionario actualizado en la consola\n",
    "print(\"El diccionario actualizado es:\")\n",
    "print(cliente)"
   ]
  },
  {
   "attachments": {},
   "cell_type": "markdown",
   "metadata": {},
   "source": [
    "#### Funciones de Control"
   ]
  },
  {
   "cell_type": "code",
   "execution_count": 11,
   "metadata": {},
   "outputs": [
    {
     "name": "stdout",
     "output_type": "stream",
     "text": [
      "El número es mayor que dos\n"
     ]
    }
   ],
   "source": [
    "numero = 5\n",
    "\n",
    "\n",
    "## En Python, el operador % se conoce como el operador módulo. Se utiliza para obtener el resto de la división entera entre dos números.\n",
    "if numero % 2 == 0:\n",
    "    print(\"El número es par\")\n",
    "\n",
    "if numero > 2:\n",
    "    print(\"El número es mayor que dos\")"
   ]
  },
  {
   "attachments": {},
   "cell_type": "markdown",
   "metadata": {},
   "source": [
    "Es importante tener en cuenta que, en este ejemplo, se utilizan operadores de comparación (<, >= y ==) para evaluar las condiciones. Estos operadores se utilizan comúnmente en las funciones de control de Python para comparar valores y tomar decisiones basadas en esas comparaciones."
   ]
  },
  {
   "cell_type": "code",
   "execution_count": 22,
   "metadata": {},
   "outputs": [
    {
     "name": "stdout",
     "output_type": "stream",
     "text": [
      "Eres mayor de edad\n"
     ]
    }
   ],
   "source": [
    "edad = 20\n",
    "\n",
    "if edad >= 18:\n",
    "    print(\"Eres mayor de edad\")\n",
    "else:\n",
    "    print(\"Eres menor de edad\")"
   ]
  },
  {
   "cell_type": "code",
   "execution_count": 13,
   "metadata": {},
   "outputs": [
    {
     "name": "stdout",
     "output_type": "stream",
     "text": [
      "La persona cumple con los requisitos\n"
     ]
    }
   ],
   "source": [
    "edad = 25\n",
    "genero = \"Femenino\"\n",
    "tiene_experiencia = True\n",
    "\n",
    "# Verificar si la persona es una mujer con más de 18 años y experiencia\n",
    "if genero == \"Femenino\" and edad > 18 and tiene_experiencia:\n",
    "    print(\"La persona cumple con los requisitos\")\n",
    "\n",
    "# Verificar si la persona es menor de edad o no tiene experiencia\n",
    "if edad < 18 or not tiene_experiencia:\n",
    "    print(\"La persona no cumple con los requisitos\")"
   ]
  },
  {
   "attachments": {},
   "cell_type": "markdown",
   "metadata": {},
   "source": [
    "Las funciones de control en Python son aquellas que se utilizan para controlar el flujo de ejecución del programa. Estas funciones permiten al programador tomar decisiones y ejecutar diferentes acciones dependiendo de las condiciones que se cumplan.  \n",
    "\n",
    "Es importante tener en cuenta que la sentencia if utiliza el operador de comparación >= para evaluar si la edad es mayor o igual a 18. También es importante que los bloques de código dentro de la sentencia if se ejecutan solamente si la condición se evalúa como verdadera."
   ]
  },
  {
   "cell_type": "code",
   "execution_count": 14,
   "metadata": {},
   "outputs": [
    {
     "name": "stdout",
     "output_type": "stream",
     "text": [
      "Eres joven\n"
     ]
    }
   ],
   "source": [
    "edad = 18\n",
    "\n",
    "if edad < 18:\n",
    "    print(\"Eres menor de edad\")\n",
    "elif edad >= 18 and edad < 30:\n",
    "    print(\"Eres joven\")\n",
    "else:\n",
    "    print(\"Eres mayor de edad\")"
   ]
  },
  {
   "attachments": {},
   "cell_type": "markdown",
   "metadata": {},
   "source": [
    "### For y While"
   ]
  },
  {
   "attachments": {},
   "cell_type": "markdown",
   "metadata": {},
   "source": [
    "Tanto for como while son estructuras de control de flujo de código utilizadas en ciencia de datos para procesar y analizar datos.\n",
    "\n",
    "for se utiliza comúnmente para iterar sobre colecciones de datos, como listas, tuplas y diccionarios. Esto es útil cuando se necesitan realizar operaciones repetitivas en cada elemento de una colección de datos. Por ejemplo, al procesar un conjunto de imágenes, se puede utilizar un bucle for para iterar sobre la lista de imágenes y aplicar una transformación a cada una."
   ]
  },
  {
   "cell_type": "code",
   "execution_count": 16,
   "metadata": {},
   "outputs": [
    {
     "name": "stdout",
     "output_type": "stream",
     "text": [
      "1\n",
      "2\n",
      "3\n",
      "4\n",
      "5\n"
     ]
    }
   ],
   "source": [
    "# Imprimir los números del 1 al 5 utilizando for\n",
    "# Extra: Investigar off by one\n",
    "for i in range(1, 6):\n",
    "    print(i)"
   ]
  },
  {
   "cell_type": "code",
   "execution_count": 15,
   "metadata": {},
   "outputs": [
    {
     "name": "stdout",
     "output_type": "stream",
     "text": [
      "1\n",
      "2\n",
      "3\n",
      "4\n",
      "5\n"
     ]
    }
   ],
   "source": [
    "# Imprimir los números del 1 al 5 utilizando while\n",
    "i = 1\n",
    "while i <= 5:\n",
    "    print(i)\n",
    "    i += 1"
   ]
  },
  {
   "cell_type": "code",
   "execution_count": 17,
   "metadata": {},
   "outputs": [
    {
     "name": "stdout",
     "output_type": "stream",
     "text": [
      "Recorrido con for clásico:\n",
      "Nombre: Ana\n",
      "Edad: 30\n",
      "Correo electrónico: ana@mail.com\n",
      "\n",
      "Nombre: Juan\n",
      "Edad: 25\n",
      "Correo electrónico: juan@mail.com\n",
      "\n",
      "Nombre: María\n",
      "Edad: 40\n",
      "Correo electrónico: maria@mail.com\n",
      "\n",
      "Nombre: Pedro\n",
      "Edad: 20\n",
      "Correo electrónico: pedro@mail.com\n",
      "\n",
      "Nombre: Lucía\n",
      "Edad: 35\n",
      "Correo electrónico: lucia@mail.com\n",
      "\n"
     ]
    }
   ],
   "source": [
    "# Creamos una lista de diccionarios de clientes\n",
    "clientes = [\n",
    "    {\"nombre\": \"Ana\", \"edad\": 30, \"correo\": \"ana@mail.com\"},\n",
    "    {\"nombre\": \"Juan\", \"edad\": 25, \"correo\": \"juan@mail.com\"},\n",
    "    {\"nombre\": \"María\", \"edad\": 40, \"correo\": \"maria@mail.com\"},\n",
    "    {\"nombre\": \"Pedro\", \"edad\": 20, \"correo\": \"pedro@mail.com\"},\n",
    "    {\"nombre\": \"Lucía\", \"edad\": 35, \"correo\": \"lucia@mail.com\"}\n",
    "]\n",
    "\n",
    "# Recorremos la lista de clientes con un bucle for clásico\n",
    "print(\"Recorrido con for clásico:\")\n",
    "for cliente in clientes:\n",
    "    print(\"Nombre:\", cliente[\"nombre\"])\n",
    "    print(\"Edad:\", cliente[\"edad\"])\n",
    "    print(\"Correo electrónico:\", cliente[\"correo\"])\n",
    "    print()"
   ]
  },
  {
   "attachments": {},
   "cell_type": "markdown",
   "metadata": {},
   "source": [
    "### Ejemplo Real (Bonus)"
   ]
  },
  {
   "cell_type": "code",
   "execution_count": 18,
   "metadata": {},
   "outputs": [
    {
     "data": {
      "image/png": "[encoded data removed]",
      "text/plain": [
       "<Figure size 640x480 with 1 Axes>"
      ]
     },
     "metadata": {},
     "output_type": "display_data"
    }
   ],
   "source": [
    "## Ejemplo real de uso de tuplas. \n",
    "data = [(1, 2), (3, 4), (5, 6), (7, 8), (9, 10)]\n",
    "import matplotlib.pyplot as plt\n",
    "\n",
    "#compresión de listas. \n",
    "x = [d[0] for d in data]\n",
    "y = [d[1] for d in data]\n",
    "\n",
    "plt.plot(x, y, 'ro')\n",
    "plt.show()\n"
   ]
  },
  {
   "cell_type": "code",
   "execution_count": 19,
   "metadata": {},
   "outputs": [
    {
     "name": "stdout",
     "output_type": "stream",
     "text": [
      "Mejores hiperparámetros encontrados: {'C': 0.1, 'gamma': 1}\n",
      "Mejor rendimiento: 0.9736842105263158\n"
     ]
    }
   ],
   "source": [
    "# Importar librerías necesarias\n",
    "import numpy as np\n",
    "from sklearn.datasets import load_iris\n",
    "from sklearn.model_selection import train_test_split\n",
    "from sklearn.svm import SVC\n",
    "\n",
    "# Cargar el conjunto de datos Iris\n",
    "iris = load_iris()\n",
    "\n",
    "# Dividir el conjunto de datos en entrenamiento y prueba\n",
    "X_train, X_test, y_train, y_test = train_test_split(iris.data, iris.target, random_state=0)\n",
    "\n",
    "# Definir la lista de valores de los hiperparámetros a probar\n",
    "C_values = [0.1, 1, 10]\n",
    "gamma_values = [0.01, 0.1, 1]\n",
    "\n",
    "# Inicializar las variables para almacenar el mejor rendimiento y la mejor combinación de hiperparámetros\n",
    "best_score = 0\n",
    "best_params = {}\n",
    "\n",
    "# Definir el bucle while para ajustar los hiperparámetros\n",
    "i = 0\n",
    "while i < len(C_values):\n",
    "    j = 0\n",
    "    while j < len(gamma_values):\n",
    "        # Definir el modelo con los valores actuales de los hiperparámetros\n",
    "        model = SVC(C=C_values[i], gamma=gamma_values[j])\n",
    "        \n",
    "        # Entrenar el modelo y evaluar su rendimiento\n",
    "        model.fit(X_train, y_train)\n",
    "        score = model.score(X_test, y_test)\n",
    "        \n",
    "        # Actualizar las variables del mejor rendimiento y los mejores hiperparámetros si se encuentra un modelo mejor\n",
    "        if score > best_score:\n",
    "            best_score = score\n",
    "            best_params = {'C': C_values[i], 'gamma': gamma_values[j]}\n",
    "        \n",
    "        j += 1\n",
    "    \n",
    "    i += 1\n",
    "\n",
    "# Imprimir los mejores hiperparámetros y el mejor rendimiento\n",
    "print(\"Mejores hiperparámetros encontrados:\", best_params)\n",
    "print(\"Mejor rendimiento:\", best_score)"
   ]
  }
 ],
 "metadata": {
  "kernelspec": {
   "display_name": "Python 3",
   "language": "python",
   "name": "python3"
  },
  "language_info": {
   "codemirror_mode": {
    "name": "ipython",
    "version": 3
   },
   "file_extension": ".py",
   "mimetype": "text/x-python",
   "name": "python",
   "nbconvert_exporter": "python",
   "pygments_lexer": "ipython3",
   "version": "3.9.12"
  },
  "orig_nbformat": 4
 },
 "nbformat": 4,
 "nbformat_minor": 2
}
