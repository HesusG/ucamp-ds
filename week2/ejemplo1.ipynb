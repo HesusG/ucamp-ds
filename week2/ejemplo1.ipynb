{
 "cells": [
  {
   "attachments": {},
   "cell_type": "markdown",
   "metadata": {},
   "source": [
    "¡Bienvenido a esta sesión! En esta oportunidad estaremos explorando los fundamentos de la programación en Python, centrándonos en la comprensión de los tipos de variables, tuplas, listas, diccionarios y funciones de control.\n",
    "\n",
    "La programación es una herramienta invaluable en el mundo actual, y Python es uno de los lenguajes de programación más populares en la actualidad debido a su facilidad de aprendizaje y su versatilidad. Aprender los conceptos básicos de la programación en Python es el primer paso para convertirse en un programador efectivo y resolver problemas de manera creativa.\n",
    "\n",
    "Durante esta Jupyter Notebook, exploraremos los diferentes tipos de variables en Python y cómo se utilizan en la programación. También abordaremos las tuplas, las listas y los diccionarios, y aprenderemos cómo se pueden utilizar para almacenar y manipular datos. Además, estudiaremos las funciones de control, como las instrucciones de toma de decisiones y las estructuras de bucle, y cómo se pueden utilizar para controlar el flujo de un programa.\n",
    "\n",
    "Este es un contenido importante y fundamental para cualquier persona interesada en aprender programación. ¡Así que prepárate para sumergirte en el mundo de Python!"
   ]
  },
  {
   "attachments": {},
   "cell_type": "markdown",
   "metadata": {},
   "source": [
    "### Tipos de Variables y Datos"
   ]
  },
  {
   "cell_type": "code",
   "execution_count": null,
   "metadata": {},
   "outputs": [],
   "source": [
    "# Definimos una variable de tipo entero\n",
    "variable = 4\n",
    "\n",
    "# Mostramos el valor de la variable en la consola\n",
    "print(\"La variable contiene:\")\n",
    "print(variable)\n",
    "\n",
    "# Mostramos el tipo de dato de la variable en la consola\n",
    "print(\"Su tipo de dato es...\")\n",
    "print(type(variable))"
   ]
  },
  {
   "attachments": {},
   "cell_type": "markdown",
   "metadata": {},
   "source": [
    "En este código, estamos asignando el valor entero 4 a la variable variable. Luego, utilizamos la función print() para mostrar en la consola el contenido de la variable variable. También utilizamos la función type() para mostrar el tipo de dato de la variable.\n",
    "\n",
    "En programación, una variable es un espacio de memoria que se utiliza para almacenar un valor. En este caso, la variable variable almacena el valor entero 4. Los tipos de datos son importantes en programación porque determinan cómo se puede manipular un valor. En este caso, el tipo de dato de la variable es int (entero en español), lo que significa que el valor almacenado es un número entero y puede ser utilizado en operaciones matemáticas.\n",
    "\n",
    "El uso de funciones como print() y type() es muy común en programación, ya que nos permiten obtener información importante sobre nuestro código\n",
    "\n",
    "En Python, los comentarios se crean utilizando el símbolo #. Todo lo que escribamos después de este símbolo será ignorado por el intérprete de Python y no afectará el funcionamiento del código."
   ]
  },
  {
   "cell_type": "code",
   "execution_count": null,
   "metadata": {},
   "outputs": [],
   "source": [
    "variable = 4.5\n",
    "print(\"la variable ahora contiene: \")\n",
    "print(variable)\n",
    "print(\"Su tipo de dato ahora es...\")\n",
    "print(type(variable))"
   ]
  },
  {
   "cell_type": "code",
   "execution_count": null,
   "metadata": {},
   "outputs": [],
   "source": [
    "variable = \"tengo un montón de ricos cocos\"\n",
    "print(\"la variable ahora contiene: \")\n",
    "print(variable)\n",
    "print(\"Su tipo de dato finalmente es...\")\n",
    "print(type(variable))"
   ]
  },
  {
   "cell_type": "markdown",
   "metadata": {},
   "source": []
  },
  {
   "cell_type": "code",
   "execution_count": null,
   "metadata": {},
   "outputs": [],
   "source": []
  },
  {
   "cell_type": "code",
   "execution_count": null,
   "metadata": {},
   "outputs": [],
   "source": [
    "persona = (\"Juan\", 25, \"México\")\n",
    "\n",
    "# Mostramos la tupla en la consola\n",
    "print(\"La tupla contiene:\")\n",
    "print(persona)\n",
    "\n",
    "# Mostramos el tipo de dato de la variable\n",
    "print(\"El tipo de dato finalmente es...\")\n",
    "print(type(persona))"
   ]
  },
  {
   "attachments": {},
   "cell_type": "markdown",
   "metadata": {},
   "source": [
    "En este ejemplo, creamos una tupla llamada persona que contiene información sobre una persona ficticia, incluyendo su nombre, edad y país de origen. Luego, mostramos la tupla en la consola utilizando la función print()."
   ]
  },
  {
   "cell_type": "code",
   "execution_count": null,
   "metadata": {},
   "outputs": [],
   "source": [
    "# Creamos un diccionario con información de un cliente\n",
    "cliente = {\"nombre\": \"Ana\", \"edad\": 30, \"correo\": \"ana@mail.com\"}\n",
    "\n",
    "# Mostramos el diccionario en la consola\n",
    "print(\"El diccionario contiene:\")\n",
    "print(cliente)\n",
    "\n",
    "# Accedemos a un valor específico del diccionario\n",
    "print(\"El nombre del cliente es:\")\n",
    "print(cliente[\"nombre\"])\n",
    "\n",
    "# Agregamos una nueva llave y valor al diccionario\n",
    "cliente[\"telefono\"] = \"555-1234\"\n",
    "\n",
    "# Mostramos el diccionario actualizado en la consola\n",
    "print(\"El diccionario actualizado es:\")\n",
    "print(cliente)"
   ]
  },
  {
   "cell_type": "code",
   "execution_count": null,
   "metadata": {},
   "outputs": [],
   "source": [
    "# Creamos una lista de diccionarios de clientes\n",
    "clientes = [\n",
    "    {\"nombre\": \"Ana\", \"edad\": 30, \"correo\": \"ana@mail.com\"},\n",
    "    {\"nombre\": \"Juan\", \"edad\": 25, \"correo\": \"juan@mail.com\"},\n",
    "    {\"nombre\": \"María\", \"edad\": 40, \"correo\": \"maria@mail.com\"},\n",
    "    {\"nombre\": \"Pedro\", \"edad\": 20, \"correo\": \"pedro@mail.com\"},\n",
    "    {\"nombre\": \"Lucía\", \"edad\": 35, \"correo\": \"lucia@mail.com\"}\n",
    "]\n",
    "\n",
    "# Recorremos la lista de clientes con un bucle for clásico\n",
    "print(\"Recorrido con for clásico:\")\n",
    "for cliente in clientes:\n",
    "    print(\"Nombre:\", cliente[\"nombre\"])\n",
    "    print(\"Edad:\", cliente[\"edad\"])\n",
    "    print(\"Correo electrónico:\", cliente[\"correo\"])\n",
    "    print()"
   ]
  }
 ],
 "metadata": {
  "language_info": {
   "name": "python"
  },
  "orig_nbformat": 4
 },
 "nbformat": 4,
 "nbformat_minor": 2
}
