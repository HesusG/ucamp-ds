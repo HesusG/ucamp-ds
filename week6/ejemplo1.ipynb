{
 "cells": [
  {
   "attachments": {},
   "cell_type": "markdown",
   "metadata": {},
   "source": [
    "# Fundamentos de estadística descriptiva\n",
    "\n",
    "### 1. [Introducción a la estadística](#intro)\n",
    "   - Definición de estadística\n",
    "   - Tipos de variable: variable cualitativa, variable cuantitativa discreta y variable cuantitativa continua\n",
    "   - División de la estadística: estadística descriptiva e inferencial\n",
    "   \n",
    "### 2. [Estadística descriptiva](#estadistica)\n",
    "   - Conceptos básicos: población y muestra\n",
    "   - Medidas de tendencia central\n",
    "   - Medidas de dispersión\n",
    "   \n",
    "### 3. [Ejemplos prácticos de estadística descriptiva](#ejemplos)\n",
    "   - Cálculo de medidas de resumen y tablas de frecuencia utilizando Python y la biblioteca NumPy\n",
    "   \n",
    "### 4. [Conclusiones](#conclusiones)\n"
   ]
  },
  {
   "attachments": {},
   "cell_type": "markdown",
   "metadata": {},
   "source": [
    "## 1. Introducción a la estadística <a name=\"intro\"></a>\n",
    "\n",
    "La estadística es una rama de las matemáticas que se ocupa de la recopilación, análisis e interpretación de datos. En la mayoría de las áreas de la vida, incluyendo negocios, ciencias sociales, ciencias naturales, ingeniería y medicina, se utilizan métodos estadísticos para tomar decisiones basadas en datos.\n",
    "\n",
    "En esta sección, introduciremos algunos conceptos fundamentales de estadística, como los tipos de variables y la división de la estadística en estadística descriptiva e inferencial. También exploraremos los diferentes tipos de variables que se utilizan en estadística, incluyendo variables cualitativas, variables cuantitativas discretas y variables cuantitativas continuas.\n",
    "\n",
    "En la estadística descriptiva, nos enfocamos en describir los datos que tenemos en lugar de hacer inferencias o predicciones sobre la población a partir de una muestra. Discutiremos los conceptos básicos de la estadística descriptiva, incluyendo la población y la muestra, y presentaremos varias medidas de resumen que se utilizan comúnmente para resumir los datos. Además, hablaremos sobre cómo construir tablas de frecuencia y gráficos para visualizar los datos."
   ]
  },
  {
   "cell_type": "code",
   "execution_count": 30,
   "metadata": {},
   "outputs": [],
   "source": [
    "import pandas as pd\n",
    "import numpy as np\n",
    "import seaborn as sns\n",
    "import matplotlib.pyplot as plt\n",
    "import scipy"
   ]
  },
  {
   "attachments": {},
   "cell_type": "markdown",
   "metadata": {},
   "source": [
    "La estadística es una rama de las matemáticas que se ocupa de la recopilación, análisis e interpretación de datos. Los métodos estadísticos se utilizan en una amplia variedad de campos para hacer predicciones, tomar decisiones informadas y obtener información útil a partir de los datos.\n",
    "\n",
    "En Python, existen numerosas bibliotecas para realizar análisis estadísticos, entre ellas destacan NumPy, Pandas y SciPy. Estas bibliotecas ofrecen funciones y herramientas que permiten calcular medidas de resumen, realizar pruebas de hipótesis, ajustar modelos y visualizar datos, entre otros usos.\n",
    "\n",
    "Por ejemplo, NumPy es una biblioteca de Python que proporciona herramientas para realizar cálculos numéricos eficientes. Algunas de las funciones de NumPy que se utilizan comúnmente en estadística incluyen np.mean() para calcular la media de una serie de datos, np.median() para calcular la mediana, np.std() para calcular la desviación estándar y np.var() para calcular la varianza. Pandas, por su parte, es una biblioteca de Python que proporciona estructuras de datos y herramientas para el análisis de datos. Pandas ofrece funciones para crear tablas de frecuencia, realizar análisis de correlación, realizar agregaciones y filtrar datos, entre otras tareas. SciPy es otra biblioteca de Python que se utiliza comúnmente en estadística y análisis de datos. Esta biblioteca ofrece herramientas para realizar pruebas estadísticas, ajustar modelos y realizar análisis de regresión, entre otros usos."
   ]
  },
  {
   "cell_type": "code",
   "execution_count": 7,
   "metadata": {},
   "outputs": [
    {
     "name": "stdout",
     "output_type": "stream",
     "text": [
      "<class 'pandas.core.frame.DataFrame'>\n",
      "RangeIndex: 891 entries, 0 to 890\n",
      "Data columns (total 15 columns):\n",
      " #   Column       Non-Null Count  Dtype   \n",
      "---  ------       --------------  -----   \n",
      " 0   survived     891 non-null    int64   \n",
      " 1   pclass       891 non-null    int64   \n",
      " 2   sex          891 non-null    object  \n",
      " 3   age          714 non-null    float64 \n",
      " 4   sibsp        891 non-null    int64   \n",
      " 5   parch        891 non-null    int64   \n",
      " 6   fare         891 non-null    float64 \n",
      " 7   embarked     889 non-null    object  \n",
      " 8   class        891 non-null    category\n",
      " 9   who          891 non-null    object  \n",
      " 10  adult_male   891 non-null    bool    \n",
      " 11  deck         203 non-null    category\n",
      " 12  embark_town  889 non-null    object  \n",
      " 13  alive        891 non-null    object  \n",
      " 14  alone        891 non-null    bool    \n",
      "dtypes: bool(2), category(2), float64(2), int64(4), object(5)\n",
      "memory usage: 80.7+ KB\n"
     ]
    }
   ],
   "source": [
    "titanic = sns.load_dataset('titanic')\n",
    "titanic.info()"
   ]
  },
  {
   "cell_type": "code",
   "execution_count": 9,
   "metadata": {},
   "outputs": [
    {
     "data": {
      "text/html": [
       "<div>\n",
       "<style scoped>\n",
       "    .dataframe tbody tr th:only-of-type {\n",
       "        vertical-align: middle;\n",
       "    }\n",
       "\n",
       "    .dataframe tbody tr th {\n",
       "        vertical-align: top;\n",
       "    }\n",
       "\n",
       "    .dataframe thead th {\n",
       "        text-align: right;\n",
       "    }\n",
       "</style>\n",
       "<table border=\"1\" class=\"dataframe\">\n",
       "  <thead>\n",
       "    <tr style=\"text-align: right;\">\n",
       "      <th></th>\n",
       "      <th>survived</th>\n",
       "      <th>pclass</th>\n",
       "      <th>sex</th>\n",
       "      <th>age</th>\n",
       "      <th>sibsp</th>\n",
       "      <th>parch</th>\n",
       "      <th>fare</th>\n",
       "      <th>embarked</th>\n",
       "      <th>class</th>\n",
       "      <th>who</th>\n",
       "      <th>adult_male</th>\n",
       "      <th>deck</th>\n",
       "      <th>embark_town</th>\n",
       "      <th>alive</th>\n",
       "      <th>alone</th>\n",
       "    </tr>\n",
       "  </thead>\n",
       "  <tbody>\n",
       "    <tr>\n",
       "      <th>0</th>\n",
       "      <td>0</td>\n",
       "      <td>3</td>\n",
       "      <td>male</td>\n",
       "      <td>22.0</td>\n",
       "      <td>1</td>\n",
       "      <td>0</td>\n",
       "      <td>7.2500</td>\n",
       "      <td>S</td>\n",
       "      <td>Third</td>\n",
       "      <td>man</td>\n",
       "      <td>True</td>\n",
       "      <td>NaN</td>\n",
       "      <td>Southampton</td>\n",
       "      <td>no</td>\n",
       "      <td>False</td>\n",
       "    </tr>\n",
       "    <tr>\n",
       "      <th>1</th>\n",
       "      <td>1</td>\n",
       "      <td>1</td>\n",
       "      <td>female</td>\n",
       "      <td>38.0</td>\n",
       "      <td>1</td>\n",
       "      <td>0</td>\n",
       "      <td>71.2833</td>\n",
       "      <td>C</td>\n",
       "      <td>First</td>\n",
       "      <td>woman</td>\n",
       "      <td>False</td>\n",
       "      <td>C</td>\n",
       "      <td>Cherbourg</td>\n",
       "      <td>yes</td>\n",
       "      <td>False</td>\n",
       "    </tr>\n",
       "    <tr>\n",
       "      <th>2</th>\n",
       "      <td>1</td>\n",
       "      <td>3</td>\n",
       "      <td>female</td>\n",
       "      <td>26.0</td>\n",
       "      <td>0</td>\n",
       "      <td>0</td>\n",
       "      <td>7.9250</td>\n",
       "      <td>S</td>\n",
       "      <td>Third</td>\n",
       "      <td>woman</td>\n",
       "      <td>False</td>\n",
       "      <td>NaN</td>\n",
       "      <td>Southampton</td>\n",
       "      <td>yes</td>\n",
       "      <td>True</td>\n",
       "    </tr>\n",
       "    <tr>\n",
       "      <th>3</th>\n",
       "      <td>1</td>\n",
       "      <td>1</td>\n",
       "      <td>female</td>\n",
       "      <td>35.0</td>\n",
       "      <td>1</td>\n",
       "      <td>0</td>\n",
       "      <td>53.1000</td>\n",
       "      <td>S</td>\n",
       "      <td>First</td>\n",
       "      <td>woman</td>\n",
       "      <td>False</td>\n",
       "      <td>C</td>\n",
       "      <td>Southampton</td>\n",
       "      <td>yes</td>\n",
       "      <td>False</td>\n",
       "    </tr>\n",
       "    <tr>\n",
       "      <th>4</th>\n",
       "      <td>0</td>\n",
       "      <td>3</td>\n",
       "      <td>male</td>\n",
       "      <td>35.0</td>\n",
       "      <td>0</td>\n",
       "      <td>0</td>\n",
       "      <td>8.0500</td>\n",
       "      <td>S</td>\n",
       "      <td>Third</td>\n",
       "      <td>man</td>\n",
       "      <td>True</td>\n",
       "      <td>NaN</td>\n",
       "      <td>Southampton</td>\n",
       "      <td>no</td>\n",
       "      <td>True</td>\n",
       "    </tr>\n",
       "  </tbody>\n",
       "</table>\n",
       "</div>"
      ],
      "text/plain": [
       "   survived  pclass     sex   age  sibsp  parch     fare embarked  class  \\\n",
       "0         0       3    male  22.0      1      0   7.2500        S  Third   \n",
       "1         1       1  female  38.0      1      0  71.2833        C  First   \n",
       "2         1       3  female  26.0      0      0   7.9250        S  Third   \n",
       "3         1       1  female  35.0      1      0  53.1000        S  First   \n",
       "4         0       3    male  35.0      0      0   8.0500        S  Third   \n",
       "\n",
       "     who  adult_male deck  embark_town alive  alone  \n",
       "0    man        True  NaN  Southampton    no  False  \n",
       "1  woman       False    C    Cherbourg   yes  False  \n",
       "2  woman       False  NaN  Southampton   yes   True  \n",
       "3  woman       False    C  Southampton   yes  False  \n",
       "4    man        True  NaN  Southampton    no   True  "
      ]
     },
     "execution_count": 9,
     "metadata": {},
     "output_type": "execute_result"
    }
   ],
   "source": [
    "titanic.head()"
   ]
  },
  {
   "attachments": {},
   "cell_type": "markdown",
   "metadata": {},
   "source": [
    "**Variable cualitativa** 📊\n",
    "\n",
    "Las variables cualitativas se refieren a características o atributos que no pueden ser medidos en términos de magnitud o cantidad. Las variables cualitativas se dividen en dos subtipos: nominales y ordinales.\n",
    "\n",
    "- Nominales: Las variables nominales son aquellas que no tienen un orden específico. Un ejemplo de variable nominal en el conjunto de datos titanic podría ser la columna embarked, que indica el puerto de embarque del pasajero. Los valores en esta columna son \"S\" (Southampton), \"C\" (Cherbourg) y \"Q\" (Queenstown), pero no hay un orden específico entre ellos.\n",
    "\n",
    "\n",
    "\n"
   ]
  },
  {
   "cell_type": "code",
   "execution_count": 10,
   "metadata": {},
   "outputs": [
    {
     "name": "stdout",
     "output_type": "stream",
     "text": [
      "S    644\n",
      "C    168\n",
      "Q     77\n",
      "Name: embarked, dtype: int64\n"
     ]
    }
   ],
   "source": [
    "embarked_counts = titanic['embarked'].value_counts()\n",
    "print(embarked_counts)"
   ]
  },
  {
   "attachments": {},
   "cell_type": "markdown",
   "metadata": {},
   "source": [
    "- Ordinales: Las variables ordinales son aquellas que tienen un orden específico. Un ejemplo de variable ordinal en el conjunto de datos titanic podría ser la columna pclass, que indica la clase de billete del pasajero. Los valores en esta columna son 1, 2 y 3, y hay un orden específico entre ellos: la clase 1 es la más alta y la clase 3 es la más baja."
   ]
  },
  {
   "cell_type": "code",
   "execution_count": 12,
   "metadata": {},
   "outputs": [
    {
     "name": "stdout",
     "output_type": "stream",
     "text": [
      "3    491\n",
      "1    216\n",
      "2    184\n",
      "Name: pclass, dtype: int64\n"
     ]
    }
   ],
   "source": [
    "pclass_counts = titanic['pclass'].value_counts()\n",
    "print(pclass_counts)"
   ]
  },
  {
   "attachments": {},
   "cell_type": "markdown",
   "metadata": {},
   "source": [
    "**Variable cuantitativa discreta** 📈\n",
    "\n",
    "Las variables cuantitativas discretas son aquellas que pueden ser medidas en términos de magnitud o cantidad, pero sólo toman valores enteros. Un ejemplo de variable cuantitativa discreta en el conjunto de datos titanic podría ser la columna sibsp, que indica el número de hermanos o cónyuges a bordo del Titanic para cada pasajero. Los valores en esta columna son enteros y no pueden ser fraccionales.\n"
   ]
  },
  {
   "cell_type": "code",
   "execution_count": 14,
   "metadata": {},
   "outputs": [
    {
     "name": "stdout",
     "output_type": "stream",
     "text": [
      "count    891.000000\n",
      "mean       0.523008\n",
      "std        1.102743\n",
      "min        0.000000\n",
      "25%        0.000000\n",
      "50%        0.000000\n",
      "75%        1.000000\n",
      "max        8.000000\n",
      "Name: sibsp, dtype: float64\n"
     ]
    }
   ],
   "source": [
    "sibsp_stats = titanic['sibsp'].describe()\n",
    "print(sibsp_stats)"
   ]
  },
  {
   "cell_type": "code",
   "execution_count": 23,
   "metadata": {},
   "outputs": [
    {
     "data": {
      "text/plain": [
       "<Axes: ylabel='Frequency'>"
      ]
     },
     "execution_count": 23,
     "metadata": {},
     "output_type": "execute_result"
    },
    {
     "data": {
      "image/png": "[encoded data removed]",
      "text/plain": [
       "<Figure size 640x480 with 1 Axes>"
      ]
     },
     "metadata": {},
     "output_type": "display_data"
    }
   ],
   "source": [
    "titanic['sibsp'].plot(kind='hist')"
   ]
  },
  {
   "attachments": {},
   "cell_type": "markdown",
   "metadata": {},
   "source": [
    "Podemos ver que todos los valores son enteros, lo que indica que es una variable cuantitativa discreta."
   ]
  },
  {
   "attachments": {},
   "cell_type": "markdown",
   "metadata": {},
   "source": [
    "\n",
    "**Variable cuantitativa continua** 📉\n",
    "\n",
    "Las variables cuantitativas continuas son aquellas que pueden ser medidas en términos de magnitud o cantidad y pueden tomar cualquier valor dentro de un rango específico. Un ejemplo de variable cuantitativa continua en el conjunto de datos titanic podría ser la columna fare, que indica el precio del boleto pagado por cada pasajero. Los valores en esta columna pueden ser cualquier número real dentro de un rango específico."
   ]
  },
  {
   "cell_type": "code",
   "execution_count": 25,
   "metadata": {},
   "outputs": [
    {
     "name": "stdout",
     "output_type": "stream",
     "text": [
      "count    891.000000\n",
      "mean      32.204208\n",
      "std       49.693429\n",
      "min        0.000000\n",
      "25%        7.910400\n",
      "50%       14.454200\n",
      "75%       31.000000\n",
      "max      512.329200\n",
      "Name: fare, dtype: float64\n"
     ]
    }
   ],
   "source": [
    "fare_stats = titanic['fare'].describe()\n",
    "print(fare_stats)"
   ]
  },
  {
   "cell_type": "code",
   "execution_count": 26,
   "metadata": {},
   "outputs": [
    {
     "data": {
      "text/plain": [
       "<Axes: ylabel='Frequency'>"
      ]
     },
     "execution_count": 26,
     "metadata": {},
     "output_type": "execute_result"
    },
    {
     "data": {
      "image/png": "[encoded data removed]",
      "text/plain": [
       "<Figure size 640x480 with 1 Axes>"
      ]
     },
     "metadata": {},
     "output_type": "display_data"
    }
   ],
   "source": [
    "titanic['fare'].plot(kind='hist')"
   ]
  },
  {
   "attachments": {},
   "cell_type": "markdown",
   "metadata": {},
   "source": [
    "Podemos ver que los valores incluyen números decimales, lo que indica que es una variable cuantitativa continua.\n",
    "\n",
    "Espero que esto ayude a ilustrar cómo podemos aplicar algunas funciones en Python para distinguir entre diferentes tipos de variables."
   ]
  },
  {
   "attachments": {},
   "cell_type": "markdown",
   "metadata": {},
   "source": [
    "##  Estadística descriptiva <a name=\"estadistica\"></a>\n",
    "\n",
    "La estadística descriptiva es una rama de la estadística que se encarga de resumir y describir las características principales de un conjunto de datos. Se utiliza para obtener una idea general de cómo se distribuyen los datos y para identificar patrones y tendencias.\n",
    "\n",
    "En esta sección, veremos algunas de las medidas y técnicas más comunes de la estadística descriptiva, incluyendo:\n",
    "\n",
    "- Medidas de tendencia central\n",
    "- Medidas de dispersión\n",
    "- Distribuciones de frecuencia\n",
    "- Gráficos estadísticos"
   ]
  },
  {
   "attachments": {},
   "cell_type": "markdown",
   "metadata": {},
   "source": [
    "**Población y muestra** <br>\n",
    "En estadística, la \"población\" se refiere al conjunto completo de individuos o elementos que comparten una característica común y que se desea estudiar, mientras que una \"muestra\" es un subconjunto de la población seleccionado para ser estudiado y proporcionar información sobre la población. La selección de la muestra debe ser aleatoria y representativa de la población para garantizar la validez de los resultados del estudio, y la muestra debe ser lo suficientemente grande para ser representativa de la población."
   ]
  },
  {
   "cell_type": "code",
   "execution_count": 57,
   "metadata": {},
   "outputs": [
    {
     "data": {
      "text/plain": [
       "<Axes: ylabel='Frequency'>"
      ]
     },
     "execution_count": 57,
     "metadata": {},
     "output_type": "execute_result"
    },
    {
     "data": {
      "image/png": "[encoded data removed]",
      "text/plain": [
       "<Figure size 640x480 with 1 Axes>"
      ]
     },
     "metadata": {},
     "output_type": "display_data"
    }
   ],
   "source": [
    "#muestra aleatoria de 100 edades de pasajeros del Titanic.\n",
    "muestra = titanic['age'].sample(n=100)\n",
    "muestra.plot(kind='hist')"
   ]
  },
  {
   "cell_type": "code",
   "execution_count": 58,
   "metadata": {},
   "outputs": [],
   "source": [
    "# Población: Todos los pasajeros del Titanic\n",
    "population = titanic\n",
    "\n",
    "# Muestra: Los pasajeros que sobrevivieron al hundimiento del Titanic\n",
    "sample = titanic[titanic[\"survived\"] == 1]\n"
   ]
  },
  {
   "attachments": {},
   "cell_type": "markdown",
   "metadata": {},
   "source": [
    "\n",
    "**Medidas de tendencia central** se utilizan para describir el centro o la ubicación típica de un conjunto de datos. Las medidas más comunes son la media, la mediana y la moda. \n",
    "\n",
    "- La media es la suma de todos los valores dividida por el número de valores.\n",
    "- La mediana es el valor que se encuentra en el centro de un conjunto de datos ordenados.\n",
    "- La moda es el valor que aparece con más frecuencia en un conjunto de datos."
   ]
  },
  {
   "cell_type": "code",
   "execution_count": 27,
   "metadata": {},
   "outputs": [
    {
     "name": "stdout",
     "output_type": "stream",
     "text": [
      "Media de edad: 29.70\n",
      "Mediana de edad: 28.00\n",
      "Moda de edad: 24.00\n"
     ]
    }
   ],
   "source": [
    "# Calcular la media, mediana y moda de la columna \"age\"\n",
    "age_mean = titanic['age'].mean()\n",
    "age_median = titanic['age'].median()\n",
    "age_mode = titanic['age'].mode()[0]  # La función \"mode\" devuelve una serie, por lo que se necesita el índice 0 para obtener el valor de la moda\n",
    "\n",
    "# Imprimir los resultados\n",
    "print(\"Media de edad: {:.2f}\".format(age_mean))\n",
    "print(\"Mediana de edad: {:.2f}\".format(age_median))\n",
    "print(\"Moda de edad: {:.2f}\".format(age_mode))"
   ]
  },
  {
   "cell_type": "code",
   "execution_count": 31,
   "metadata": {},
   "outputs": [
    {
     "data": {
      "image/png": "[encoded data removed]",
      "text/plain": [
       "<Figure size 640x480 with 1 Axes>"
      ]
     },
     "metadata": {},
     "output_type": "display_data"
    }
   ],
   "source": [
    "# Graficar histograma\n",
    "ax = sns.histplot(data=titanic, x='age', kde=False)\n",
    "\n",
    "# Agregar líneas para la media, mediana y moda\n",
    "ax.axvline(age_mean, color='r', linestyle='--', label='Media')\n",
    "ax.axvline(age_median, color='g', linestyle='--', label='Mediana')\n",
    "ax.axvline(age_mode, color='b', linestyle='--', label='Moda')\n",
    "\n",
    "# Agregar leyenda\n",
    "ax.legend()\n",
    "\n",
    "# Mostrar gráfica\n",
    "plt.show()"
   ]
  },
  {
   "attachments": {},
   "cell_type": "markdown",
   "metadata": {},
   "source": [
    "**Las medidas de dispersión** se utilizan para describir la variabilidad o la dispersión de un conjunto de datos. Las medidas más comunes son el rango, la varianza y la desviación estándar.\n",
    "\n",
    "- El rango es la diferencia entre el valor máximo y el valor mínimo.\n",
    "- La varianza es una medida de la dispersión de los datos con respecto a la media.\n",
    "- La desviación estándar es la raíz cuadrada de la varianza y se utiliza para describir la dispersión de los datos en términos de desviaciones estándar."
   ]
  },
  {
   "cell_type": "code",
   "execution_count": 41,
   "metadata": {},
   "outputs": [
    {
     "name": "stdout",
     "output_type": "stream",
     "text": [
      "Rango de edad: 79.58\n"
     ]
    }
   ],
   "source": [
    "#Para calcular el rango, se puede utilizar la función ptp() de NumPy, que devuelve la diferencia entre el valor máximo y el valor mínimo de un array:\n",
    "age_min = titanic[\"age\"].min()\n",
    "age_max = titanic[\"age\"].max()\n",
    "age_range = age_max - age_min\n",
    "\n",
    "print(\"Rango de edad:\", age_range)"
   ]
  },
  {
   "cell_type": "code",
   "execution_count": 39,
   "metadata": {},
   "outputs": [
    {
     "name": "stdout",
     "output_type": "stream",
     "text": [
      "Varianza de edad: 210.72357975366614\n"
     ]
    }
   ],
   "source": [
    "#Para calcular la varianza, se puede utilizar la función var() de NumPy, que devuelve la varianza de un array: \n",
    "age_var = np.var(titanic[\"age\"])\n",
    "print(\"Varianza de edad:\", age_var)"
   ]
  },
  {
   "cell_type": "code",
   "execution_count": 37,
   "metadata": {},
   "outputs": [
    {
     "name": "stdout",
     "output_type": "stream",
     "text": [
      "Desviación estándar de edad: 14.526497332334042\n"
     ]
    }
   ],
   "source": [
    "#Para calcular la desviación estándar, se puede utilizar la función std() de NumPy, que devuelve la desviación estándar de un array: \n",
    "age_std = np.std(titanic[\"age\"], ddof=1)\n",
    "print(\"Desviación estándar de edad:\", age_std)"
   ]
  },
  {
   "cell_type": "code",
   "execution_count": 49,
   "metadata": {},
   "outputs": [
    {
     "data": {
      "image/png": "[encoded data removed]",
      "text/plain": [
       "<Figure size 640x480 with 1 Axes>"
      ]
     },
     "metadata": {},
     "output_type": "display_data"
    }
   ],
   "source": [
    "sns.kdeplot(titanic[\"age\"], fill=True)\n",
    "\n",
    "# Calcular la media y la mediana de la edad\n",
    "age_mean = titanic[\"age\"].mean()\n",
    "age_median = titanic[\"age\"].median()\n",
    "\n",
    "# Calcular los límites para la región de la desviación estándar\n",
    "std_lower = age_mean - age_std\n",
    "std_upper = age_mean + age_std\n",
    "\n",
    "# Agregar una sombra para la región de la desviación estándar\n",
    "plt.axvspan(std_lower, std_upper, alpha=0.2, color='blue', label='Desviación estándar')\n",
    "\n",
    "# Mostrar la leyenda y los títulos de la gráfica\n",
    "plt.legend()\n",
    "plt.title(\"Distribución de edad de los pasajeros del Titanic\")\n",
    "plt.xlabel(\"Edad\")\n",
    "plt.ylabel(\"Densidad\")\n",
    "plt.text(5,0.035,\"\\nDesviación estándar de edad: \" + str(round(age_std,2)), fontsize=12)\n",
    "\n",
    "# Mostrar la gráfica\n",
    "plt.show()\n"
   ]
  },
  {
   "attachments": {},
   "cell_type": "markdown",
   "metadata": {},
   "source": [
    "De manera general, se puede decir que aproximadamente el 68% de los datos se encuentran dentro de una desviación estándar de la media, el 95% de los datos se encuentran dentro de dos desviaciones estándar de la media, y el 99.7% de los datos se encuentran dentro de tres desviaciones estándar de la media.\n",
    "\n",
    "En el caso específico de la columna \"age\" del dataset \"titanic\", si la desviación estándar es de 14.5, entonces se puede decir que aproximadamente el 68% de los pasajeros tienen edades que se encuentran dentro del rango entre la media menos 14.5 y la media más 14.5 años. El 95% de los pasajeros tienen edades dentro del rango entre la media menos 29 y la media más 29 años, y el 99.7% de los pasajeros tienen edades dentro del rango entre la media menos 43.5 y la media más 43.5 años.\n"
   ]
  },
  {
   "attachments": {},
   "cell_type": "markdown",
   "metadata": {},
   "source": [
    "##  Ejemplos Prácticos <a name=\"ejemplos\"></a>"
   ]
  },
  {
   "cell_type": "code",
   "execution_count": 59,
   "metadata": {},
   "outputs": [],
   "source": [
    "pokemon_sample = pd.read_csv('pokemon_sample.csv')"
   ]
  },
  {
   "cell_type": "code",
   "execution_count": 63,
   "metadata": {},
   "outputs": [],
   "source": [
    "# Calcular los indicadores\n",
    "maximo = pokemon_sample['weight_kg'].max()\n",
    "minimo = pokemon_sample['weight_kg'].min()\n",
    "rango = maximo - minimo\n",
    "numero_datos = len(pokemon_sample)\n",
    "numero_categorias = len(pokemon_sample['name'].unique())\n",
    "amplitud = rango / numero_categorias\n",
    "\n",
    "# Crear el DataFrame de resultados\n",
    "pokemon_summary = pd.DataFrame({\n",
    "    'Indicadores': ['Max', 'Min', 'Rango (kg)', 'Número de datos', 'No. Categorias', 'Amplitud kg'],\n",
    "    'Resultados': [maximo, minimo, rango, numero_datos, numero_categorias, amplitud]\n",
    "})"
   ]
  },
  {
   "cell_type": "code",
   "execution_count": 64,
   "metadata": {},
   "outputs": [
    {
     "data": {
      "text/html": [
       "<div>\n",
       "<style scoped>\n",
       "    .dataframe tbody tr th:only-of-type {\n",
       "        vertical-align: middle;\n",
       "    }\n",
       "\n",
       "    .dataframe tbody tr th {\n",
       "        vertical-align: top;\n",
       "    }\n",
       "\n",
       "    .dataframe thead th {\n",
       "        text-align: right;\n",
       "    }\n",
       "</style>\n",
       "<table border=\"1\" class=\"dataframe\">\n",
       "  <thead>\n",
       "    <tr style=\"text-align: right;\">\n",
       "      <th></th>\n",
       "      <th>Indicadores</th>\n",
       "      <th>Resultados</th>\n",
       "    </tr>\n",
       "  </thead>\n",
       "  <tbody>\n",
       "    <tr>\n",
       "      <th>0</th>\n",
       "      <td>Max</td>\n",
       "      <td>999.900000</td>\n",
       "    </tr>\n",
       "    <tr>\n",
       "      <th>1</th>\n",
       "      <td>Min</td>\n",
       "      <td>0.100000</td>\n",
       "    </tr>\n",
       "    <tr>\n",
       "      <th>2</th>\n",
       "      <td>Rango (kg)</td>\n",
       "      <td>999.800000</td>\n",
       "    </tr>\n",
       "    <tr>\n",
       "      <th>3</th>\n",
       "      <td>Número de datos</td>\n",
       "      <td>781.000000</td>\n",
       "    </tr>\n",
       "    <tr>\n",
       "      <th>4</th>\n",
       "      <td>No. Categorias</td>\n",
       "      <td>781.000000</td>\n",
       "    </tr>\n",
       "    <tr>\n",
       "      <th>5</th>\n",
       "      <td>Amplitud kg</td>\n",
       "      <td>1.280154</td>\n",
       "    </tr>\n",
       "  </tbody>\n",
       "</table>\n",
       "</div>"
      ],
      "text/plain": [
       "       Indicadores  Resultados\n",
       "0              Max  999.900000\n",
       "1              Min    0.100000\n",
       "2       Rango (kg)  999.800000\n",
       "3  Número de datos  781.000000\n",
       "4   No. Categorias  781.000000\n",
       "5      Amplitud kg    1.280154"
      ]
     },
     "execution_count": 64,
     "metadata": {},
     "output_type": "execute_result"
    }
   ],
   "source": [
    "pokemon_summary"
   ]
  },
  {
   "cell_type": "code",
   "execution_count": 69,
   "metadata": {},
   "outputs": [],
   "source": [
    "def tabla_frecuencias(data, variable, num_classes=10):\n",
    "    # Calcular los límites de las clases\n",
    "    min_value = data[variable].min()\n",
    "    max_value = data[variable].max()\n",
    "    class_width = (max_value - min_value) / num_classes\n",
    "    class_limits = np.linspace(min_value, max_value, num_classes+1)\n",
    "\n",
    "    # Crear la columna de clases y contar las frecuencias\n",
    "    data['Clase'] = pd.cut(data[variable], bins=class_limits, include_lowest=True)\n",
    "    freq_table = data.groupby('Clase').size().reset_index(name='Frecuencia')\n",
    "\n",
    "    # Calcular las frecuencias acumuladas y relativas\n",
    "    freq_table['Frecuencia acum.'] = freq_table['Frecuencia'].cumsum()\n",
    "    freq_table['Frecuencia relativa'] = freq_table['Frecuencia'] / freq_table['Frecuencia'].sum()\n",
    "    freq_table['Fr. relativa acum.'] = freq_table['Frecuencia relativa'].cumsum()\n",
    "\n",
    "    # Agregar una columna para los límites de las clases\n",
    "    limits_str = [f'[{class_limits[i]:.2f}, {class_limits[i+1]:.2f})' for i in range(num_classes)]\n",
    "    freq_table.insert(1, 'Límites', limits_str)\n",
    "\n",
    "    # Agregar una columna para los valores medios de las clases\n",
    "    class_midpoints = class_limits[:-1] + class_width/2\n",
    "    freq_table.insert(2, 'X', class_midpoints)\n",
    "\n",
    "    return freq_table"
   ]
  },
  {
   "cell_type": "code",
   "execution_count": 72,
   "metadata": {},
   "outputs": [
    {
     "data": {
      "text/html": [
       "<div>\n",
       "<style scoped>\n",
       "    .dataframe tbody tr th:only-of-type {\n",
       "        vertical-align: middle;\n",
       "    }\n",
       "\n",
       "    .dataframe tbody tr th {\n",
       "        vertical-align: top;\n",
       "    }\n",
       "\n",
       "    .dataframe thead th {\n",
       "        text-align: right;\n",
       "    }\n",
       "</style>\n",
       "<table border=\"1\" class=\"dataframe\">\n",
       "  <thead>\n",
       "    <tr style=\"text-align: right;\">\n",
       "      <th></th>\n",
       "      <th>Clase</th>\n",
       "      <th>Límites</th>\n",
       "      <th>X</th>\n",
       "      <th>Frecuencia</th>\n",
       "      <th>Frecuencia acum.</th>\n",
       "      <th>Frecuencia relativa</th>\n",
       "      <th>Fr. relativa acum.</th>\n",
       "    </tr>\n",
       "  </thead>\n",
       "  <tbody>\n",
       "    <tr>\n",
       "      <th>0</th>\n",
       "      <td>(0.099, 100.08]</td>\n",
       "      <td>[0.10, 100.08)</td>\n",
       "      <td>50.09</td>\n",
       "      <td>662</td>\n",
       "      <td>662</td>\n",
       "      <td>0.847631</td>\n",
       "      <td>0.847631</td>\n",
       "    </tr>\n",
       "    <tr>\n",
       "      <th>1</th>\n",
       "      <td>(100.08, 200.06]</td>\n",
       "      <td>[100.08, 200.06)</td>\n",
       "      <td>150.07</td>\n",
       "      <td>62</td>\n",
       "      <td>724</td>\n",
       "      <td>0.079385</td>\n",
       "      <td>0.927017</td>\n",
       "    </tr>\n",
       "    <tr>\n",
       "      <th>2</th>\n",
       "      <td>(200.06, 300.04]</td>\n",
       "      <td>[200.06, 300.04)</td>\n",
       "      <td>250.05</td>\n",
       "      <td>32</td>\n",
       "      <td>756</td>\n",
       "      <td>0.040973</td>\n",
       "      <td>0.967990</td>\n",
       "    </tr>\n",
       "    <tr>\n",
       "      <th>3</th>\n",
       "      <td>(300.04, 400.02]</td>\n",
       "      <td>[300.04, 400.02)</td>\n",
       "      <td>350.03</td>\n",
       "      <td>13</td>\n",
       "      <td>769</td>\n",
       "      <td>0.016645</td>\n",
       "      <td>0.984635</td>\n",
       "    </tr>\n",
       "    <tr>\n",
       "      <th>4</th>\n",
       "      <td>(400.02, 500.0]</td>\n",
       "      <td>[400.02, 500.00)</td>\n",
       "      <td>450.01</td>\n",
       "      <td>3</td>\n",
       "      <td>772</td>\n",
       "      <td>0.003841</td>\n",
       "      <td>0.988476</td>\n",
       "    </tr>\n",
       "    <tr>\n",
       "      <th>5</th>\n",
       "      <td>(500.0, 599.98]</td>\n",
       "      <td>[500.00, 599.98)</td>\n",
       "      <td>549.99</td>\n",
       "      <td>2</td>\n",
       "      <td>774</td>\n",
       "      <td>0.002561</td>\n",
       "      <td>0.991037</td>\n",
       "    </tr>\n",
       "    <tr>\n",
       "      <th>6</th>\n",
       "      <td>(599.98, 699.96]</td>\n",
       "      <td>[599.98, 699.96)</td>\n",
       "      <td>649.97</td>\n",
       "      <td>1</td>\n",
       "      <td>775</td>\n",
       "      <td>0.001280</td>\n",
       "      <td>0.992318</td>\n",
       "    </tr>\n",
       "    <tr>\n",
       "      <th>7</th>\n",
       "      <td>(699.96, 799.94]</td>\n",
       "      <td>[699.96, 799.94)</td>\n",
       "      <td>749.95</td>\n",
       "      <td>1</td>\n",
       "      <td>776</td>\n",
       "      <td>0.001280</td>\n",
       "      <td>0.993598</td>\n",
       "    </tr>\n",
       "    <tr>\n",
       "      <th>8</th>\n",
       "      <td>(799.94, 899.92]</td>\n",
       "      <td>[799.94, 899.92)</td>\n",
       "      <td>849.93</td>\n",
       "      <td>1</td>\n",
       "      <td>777</td>\n",
       "      <td>0.001280</td>\n",
       "      <td>0.994878</td>\n",
       "    </tr>\n",
       "    <tr>\n",
       "      <th>9</th>\n",
       "      <td>(899.92, 999.9]</td>\n",
       "      <td>[899.92, 999.90)</td>\n",
       "      <td>949.91</td>\n",
       "      <td>4</td>\n",
       "      <td>781</td>\n",
       "      <td>0.005122</td>\n",
       "      <td>1.000000</td>\n",
       "    </tr>\n",
       "  </tbody>\n",
       "</table>\n",
       "</div>"
      ],
      "text/plain": [
       "              Clase           Límites       X  Frecuencia  Frecuencia acum.  \\\n",
       "0   (0.099, 100.08]    [0.10, 100.08)   50.09         662               662   \n",
       "1  (100.08, 200.06]  [100.08, 200.06)  150.07          62               724   \n",
       "2  (200.06, 300.04]  [200.06, 300.04)  250.05          32               756   \n",
       "3  (300.04, 400.02]  [300.04, 400.02)  350.03          13               769   \n",
       "4   (400.02, 500.0]  [400.02, 500.00)  450.01           3               772   \n",
       "5   (500.0, 599.98]  [500.00, 599.98)  549.99           2               774   \n",
       "6  (599.98, 699.96]  [599.98, 699.96)  649.97           1               775   \n",
       "7  (699.96, 799.94]  [699.96, 799.94)  749.95           1               776   \n",
       "8  (799.94, 899.92]  [799.94, 899.92)  849.93           1               777   \n",
       "9   (899.92, 999.9]  [899.92, 999.90)  949.91           4               781   \n",
       "\n",
       "   Frecuencia relativa  Fr. relativa acum.  \n",
       "0             0.847631            0.847631  \n",
       "1             0.079385            0.927017  \n",
       "2             0.040973            0.967990  \n",
       "3             0.016645            0.984635  \n",
       "4             0.003841            0.988476  \n",
       "5             0.002561            0.991037  \n",
       "6             0.001280            0.992318  \n",
       "7             0.001280            0.993598  \n",
       "8             0.001280            0.994878  \n",
       "9             0.005122            1.000000  "
      ]
     },
     "execution_count": 72,
     "metadata": {},
     "output_type": "execute_result"
    }
   ],
   "source": [
    "freq_table = tabla_frecuencias(pokemon_sample, 'weight_kg', num_classes=10)\n",
    "freq_table"
   ]
  }
 ],
 "metadata": {
  "kernelspec": {
   "display_name": "env",
   "language": "python",
   "name": "python3"
  },
  "language_info": {
   "codemirror_mode": {
    "name": "ipython",
    "version": 3
   },
   "file_extension": ".py",
   "mimetype": "text/x-python",
   "name": "python",
   "nbconvert_exporter": "python",
   "pygments_lexer": "ipython3",
   "version": "3.9.12"
  },
  "orig_nbformat": 4
 },
 "nbformat": 4,
 "nbformat_minor": 2
}
