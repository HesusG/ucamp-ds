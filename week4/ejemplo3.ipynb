{
 "cells": [
  {
   "attachments": {},
   "cell_type": "markdown",
   "metadata": {},
   "source": [
    "# Programación Orientada a Objetos"
   ]
  },
  {
   "attachments": {},
   "cell_type": "markdown",
   "metadata": {},
   "source": [
    "La programación orientada a objetos (POO) es un paradigma de programación que se utiliza ampliamente en Python y en muchos otros lenguajes de programación. La POO se basa en la idea de que un programa puede verse como un conjunto de objetos que interactúan entre sí para realizar una tarea.\n",
    "\n",
    "En Python, los objetos se crean a partir de clases, que son plantillas que definen las características y el comportamiento de un objeto. Una clase define un conjunto de atributos y métodos que son comunes a todos los objetos que se crean a partir de ella. Los atributos son variables que almacenan datos asociados con un objeto, mientras que los métodos son funciones que realizan acciones específicas en el objeto.\n",
    "\n",
    "Para crear un objeto a partir de una clase en Python, se utiliza el operador \"new\" (que se escribe implícitamente al instanciar la clase con paréntesis) para crear una instancia de la clase. Luego, se pueden acceder a los atributos y métodos de la instancia utilizando la sintaxis de punto.\n",
    "\n",
    "Por ejemplo, si tenemos una clase llamada \"Coche\" que tiene atributos como \"marca\", \"modelo\" y \"color\", y métodos como \"acelerar\" y \"frenar\", podemos crear un objeto de la clase \"Coche\" utilizando la siguiente sintaxis:\n",
    "\n",
    "``````\n",
    "class Coche:\n",
    "    def __init__(self, marca, modelo, color):\n",
    "        self.marca = marca\n",
    "        self.modelo = modelo\n",
    "        self.color = color\n",
    "\n",
    "    def acelerar(self):\n",
    "        # código para acelerar el coche\n",
    "\n",
    "    def frenar(self):\n",
    "        # código para frenar el coche\n",
    "\n",
    "mi_coche = Coche(\"Toyota\", \"Corolla\", \"blanco\")\n",
    "``````"
   ]
  },
  {
   "attachments": {},
   "cell_type": "markdown",
   "metadata": {},
   "source": [
    "En este ejemplo, creamos una instancia de la clase \"Coche\" llamada \"mi_coche\" que tiene la marca \"Toyota\", el modelo \"Corolla\" y el color \"blanco\". Luego, podemos llamar a los métodos \"acelerar\" y \"frenar\" de la instancia utilizando la sintaxis de punto:\n",
    "````\n",
    "mi_coche.acelerar()\n",
    "mi_coche.frenar()\n",
    "`````\n",
    "\n"
   ]
  },
  {
   "attachments": {},
   "cell_type": "markdown",
   "metadata": {},
   "source": [
    "## Sistema de Venta de Bicicletas (Paradiga Funcional)\n",
    "\n",
    "Este código es un programa que simula un sistema de registro y venta de bicicletas. El programa tiene tres funciones definidas:\n",
    "\n",
    "La primera función, \"actualizar_precio_de_venta\", toma dos argumentos: \"bicicleta\" y \"precio_de_venta\". Si la bicicleta ya ha sido vendida, la función lanzará una excepción. Si no ha sido vendida, actualizará el precio de venta de la bicicleta con el valor proporcionado.\n",
    "\n",
    "La segunda función, \"crear_bicicleta\", toma cuatro argumentos: \"descripcion\", \"costo\", \"precio_de_venta\" y \"condicion\". La función crea un diccionario que representa una bicicleta con la información proporcionada y lo devuelve.\n",
    "\n",
    "La tercera función, \"vender\", toma un argumento: \"bicicleta\" y un argumento opcional \"vendida_por\". Si se proporciona un valor para \"vendida_por\", la función llama a \"actualizar_precio_de_venta\" para actualizar el precio de venta de la bicicleta. Luego, establece el valor \"vendida\" de la bicicleta como \"True\" y calcula la ganancia restando el costo del precio de venta. Finalmente, devuelve la ganancia."
   ]
  },
  {
   "cell_type": "code",
   "execution_count": 19,
   "metadata": {},
   "outputs": [
    {
     "name": "stdout",
     "output_type": "stream",
     "text": [
      "Tu ganancia fue de $250\n"
     ]
    }
   ],
   "source": [
    "def actualizar_precio_de_venta(bicicleta, precio_de_venta):\n",
    "    if bicicleta['vendida'] is True:\n",
    "        raise Exception(\"Acción no permitida. La bicicleta ya ha sido vendida.\")\n",
    "    bicicleta['precio_de_venta'] = precio_de_venta\n",
    "\n",
    "\n",
    "def crear_bicicleta(descripcion, costo, precio_de_venta, condicion):\n",
    "    return {\n",
    "        'descripcion': descripcion,\n",
    "        'costo': costo,\n",
    "        'precio_de_venta': precio_de_venta,\n",
    "        'condicion': condicion,\n",
    "        'vendida': False,\n",
    "    }\n",
    "\n",
    "\n",
    "def vender(bicicleta, vendida_por=None):\n",
    "    if vendida_por:\n",
    "        actualizar_precio_de_venta(bicicleta, vendida_por)\n",
    "    bicicleta['vendida'] = True\n",
    "    ganancia = bicicleta['precio_de_venta'] - bicicleta['costo']\n",
    "    return f\"Tu ganancia fue de ${ganancia}\"\n",
    "\n",
    "\n",
    "if __name__ == '__main__':\n",
    "    bicicleta1 = crear_bicicleta('Univega Alpina, naranja', costo=100, precio_de_venta=500, condicion=0.5)\n",
    "    # bicicleta1 = {\n",
    "    #         'costo': 100,\n",
    "    #         'condicion': 0.5,\n",
    "    #         'descripcion': 'Univega Alpina, naranja',\n",
    "    #         'precio_de_venta': 500,\n",
    "    #         'vendida': False,\n",
    "    #     }\n",
    "\n",
    "    actualizar_precio_de_venta(bicicleta1, 350)\n",
    "    # bicicleta1['precio_de_venta'] = 350.00\n",
    "\n",
    "    print(vender(bicicleta1))\n",
    "    # bicicleta1['vendida'] = True"
   ]
  },
  {
   "attachments": {},
   "cell_type": "markdown",
   "metadata": {},
   "source": [
    "## Sistema de Venta de Bicicletas (Paradigma Orientado a Objetos)"
   ]
  },
  {
   "attachments": {},
   "cell_type": "markdown",
   "metadata": {},
   "source": [
    "En Python, el método \"init\" es un método especial que se utiliza para inicializar los atributos de una instancia de una clase. Este método se llama automáticamente cuando se crea una nueva instancia de la clase y se utiliza para asignar valores a los atributos de la instancia.\n",
    "\n",
    "Cuando se crea una nueva instancia de una clase en Python, se llama al método \"init\" automáticamente, y el objeto de la instancia se pasa implícitamente como el primer argumento. Es decir, el objeto se pasa como \"self\" al constructor \"init\" para que se puedan inicializar los atributos de la instancia con los valores adecuados."
   ]
  },
  {
   "cell_type": "code",
   "execution_count": 20,
   "metadata": {},
   "outputs": [],
   "source": [
    "# Definición de la clase Bicicleta\n",
    "class Bicicleta:\n",
    "    # Constructor de la clase. Inicializa los atributos de la instancia.\n",
    "    def __init__(self, descripcion, costo, precio_de_venta, condicion):\n",
    "        self.descripcion = descripcion\n",
    "        self.costo = costo\n",
    "        self.precio_de_venta = precio_de_venta\n",
    "        self.condicion = condicion\n",
    "        self.vendida = False   # La bicicleta no ha sido vendida todavía\n",
    "    \n",
    "    # Método para actualizar el precio de venta de la bicicleta.\n",
    "    def actualizar_precio_de_venta(self, nuevo_precio_de_venta):\n",
    "        if self.vendida:   # Si la bicicleta ya ha sido vendida, se levanta una excepción.\n",
    "            raise Exception(\"Acción no permitida. La bicicleta ya ha sido vendida.\")\n",
    "        self.precio_de_venta = nuevo_precio_de_venta   # Actualiza el precio de venta de la bicicleta.\n",
    "    \n",
    "    # Método para marcar la bicicleta como vendida.\n",
    "    def vender(self, vendida_por=None):\n",
    "        if self.vendida:   # Si la bicicleta ya ha sido vendida, se levanta una excepción.\n",
    "            raise Exception(\"Acción no permitida. La bicicleta ya ha sido vendida.\")\n",
    "        if vendida_por:\n",
    "            # Si se especifica un nuevo precio de venta, se actualiza el precio de venta de la bicicleta.\n",
    "            self.actualizar_precio_de_venta(vendida_por)\n",
    "        self.vendida = True   # Marca la bicicleta como vendida.\n",
    "        ganancia = self.precio_de_venta - self.costo   # Calcula la ganancia como la diferencia entre el precio de venta y el costo.\n",
    "        return f\"Tu ganancia fue de ${ganancia}\"   # Devuelve una cadena de texto que indica la ganancia obtenida."
   ]
  },
  {
   "cell_type": "code",
   "execution_count": 21,
   "metadata": {},
   "outputs": [
    {
     "name": "stdout",
     "output_type": "stream",
     "text": [
      "600\n",
      "Tu ganancia fue de $500\n"
     ]
    }
   ],
   "source": [
    "# Creación de un objeto de la clase Bicicleta con los argumentos necesarios\n",
    "mi_bicicleta = Bicicleta('Univega Alpina, naranja',\n",
    "                          condicion= 0.5,\n",
    "                          precio_de_venta= 500,\n",
    "                          costo= 100)\n",
    "\n",
    "# Actualización del precio de venta de la bicicleta a $600\n",
    "mi_bicicleta.actualizar_precio_de_venta(nuevo_precio_de_venta=600)  \n",
    "\n",
    "# Imprime el precio de venta de la bicicleta, que ahora es $600\n",
    "print(mi_bicicleta.precio_de_venta)      \n",
    "\n",
    "# Marca la bicicleta como vendida y devuelve una cadena de texto que indica la ganancia obtenida.\n",
    "print(mi_bicicleta.vender())    "
   ]
  },
  {
   "attachments": {},
   "cell_type": "markdown",
   "metadata": {},
   "source": [
    "### Ejemplo Real"
   ]
  },
  {
   "cell_type": "code",
   "execution_count": 22,
   "metadata": {},
   "outputs": [],
   "source": [
    "import numpy as np\n",
    "\n",
    "class ModeloRegresionLineal:\n",
    "    def __init__(self):\n",
    "        self.coeficientes = None\n",
    "        self.intercepto = None\n",
    "        self.datos_entrenamiento = None\n",
    "    \n",
    "    def ajustar(self, X, y):\n",
    "        # agregar una columna de 1s para representar el intercepto\n",
    "        X = np.concatenate([np.ones((X.shape[0], 1)), X], axis=1)\n",
    "        \n",
    "        # calcular los coeficientes y el intercepto mediante mínimos cuadrados\n",
    "        coeficientes, residuals, rank, s = np.linalg.lstsq(X, y, rcond=None)\n",
    "        self.coeficientes = coeficientes[1:]\n",
    "        self.intercepto = coeficientes[0]\n",
    "        self.datos_entrenamiento = (X, y)\n",
    "    \n",
    "    def predecir(self, X):\n",
    "        # agregar una columna de 1s para representar el intercepto\n",
    "        X = np.concatenate([np.ones((X.shape[0], 1)), X], axis=1)\n",
    "        \n",
    "        # calcular las predicciones usando los coeficientes y el intercepto\n",
    "        predicciones = np.dot(X, np.concatenate([[self.intercepto], self.coeficientes]))\n",
    "        return predicciones"
   ]
  },
  {
   "cell_type": "code",
   "execution_count": 23,
   "metadata": {},
   "outputs": [
    {
     "name": "stdout",
     "output_type": "stream",
     "text": [
      "Coeficientes: [ 2.27800411 -3.15776219  4.57040576]\n",
      "Intercepto: -0.2649854448422588\n",
      "Predicciones: [0.14882567 1.18414594 0.48158811 2.90349649 0.5333439  4.1617733\n",
      " 3.13202903 2.22253783 3.88033677 3.80987681]\n"
     ]
    }
   ],
   "source": [
    "# Generar datos de ejemplo\n",
    "np.random.seed(42)\n",
    "X = np.random.rand(100, 3)\n",
    "y = 2*X[:,0] - 3*X[:,1] + 4*X[:,2] + np.random.randn(100)\n",
    "\n",
    "# Ajustar modelo de regresión lineal\n",
    "modelo = ModeloRegresionLineal()\n",
    "modelo.ajustar(X, y)\n",
    "\n",
    "# Realizar predicciones sobre nuevos datos\n",
    "X_nuevo = np.random.rand(10, 3)\n",
    "predicciones = modelo.predecir(X_nuevo)\n",
    "\n",
    "# Imprimir los resultados\n",
    "print(\"Coeficientes:\", modelo.coeficientes)\n",
    "print(\"Intercepto:\", modelo.intercepto)\n",
    "print(\"Predicciones:\", predicciones)"
   ]
  },
  {
   "cell_type": "code",
   "execution_count": 24,
   "metadata": {},
   "outputs": [
    {
     "name": "stdout",
     "output_type": "stream",
     "text": [
      "Coeficientes: [ 2.27800411 -3.15776219  4.57040576]\n",
      "Intercepto: -0.26498544484225905\n",
      "Predicciones: [0.14882567 1.18414594 0.48158811 2.90349649 0.5333439  4.1617733\n",
      " 3.13202903 2.22253783 3.88033677 3.80987681]\n"
     ]
    }
   ],
   "source": [
    "from sklearn.linear_model import LinearRegression\n",
    "\n",
    "# Generar datos de ejemplo\n",
    "np.random.seed(42)\n",
    "X = np.random.rand(100, 3)\n",
    "y = 2*X[:,0] - 3*X[:,1] + 4*X[:,2] + np.random.randn(100)\n",
    "\n",
    "# Ajustar modelo de regresión lineal\n",
    "modelo = LinearRegression()\n",
    "modelo.fit(X, y)\n",
    "\n",
    "# Realizar predicciones sobre nuevos datos\n",
    "X_nuevo = np.random.rand(10, 3)\n",
    "predicciones = modelo.predict(X_nuevo)\n",
    "\n",
    "# Imprimir los resultados\n",
    "print(\"Coeficientes:\", modelo.coef_)\n",
    "print(\"Intercepto:\", modelo.intercept_)\n",
    "print(\"Predicciones:\", predicciones)"
   ]
  }
 ],
 "metadata": {
  "kernelspec": {
   "display_name": "env",
   "language": "python",
   "name": "python3"
  },
  "language_info": {
   "codemirror_mode": {
    "name": "ipython",
    "version": 3
   },
   "file_extension": ".py",
   "mimetype": "text/x-python",
   "name": "python",
   "nbconvert_exporter": "python",
   "pygments_lexer": "ipython3",
   "version": "3.9.12"
  },
  "orig_nbformat": 4
 },
 "nbformat": 4,
 "nbformat_minor": 2
}
