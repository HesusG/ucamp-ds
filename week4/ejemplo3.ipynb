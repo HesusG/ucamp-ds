{
 "cells": [
  {
   "attachments": {},
   "cell_type": "markdown",
   "metadata": {},
   "source": [
    "# Programación Orientada a Objetos"
   ]
  },
  {
   "attachments": {},
   "cell_type": "markdown",
   "metadata": {},
   "source": [
    "La programación orientada a objetos (POO) es un paradigma de programación que se utiliza ampliamente en Python y en muchos otros lenguajes de programación. La POO se basa en la idea de que un programa puede verse como un conjunto de objetos que interactúan entre sí para realizar una tarea.\n",
    "\n",
    "En Python, los objetos se crean a partir de clases, que son plantillas que definen las características y el comportamiento de un objeto. Una clase define un conjunto de atributos y métodos que son comunes a todos los objetos que se crean a partir de ella. Los atributos son variables que almacenan datos asociados con un objeto, mientras que los métodos son funciones que realizan acciones específicas en el objeto.\n",
    "\n",
    "Para crear un objeto a partir de una clase en Python, se utiliza el operador \"new\" (que se escribe implícitamente al instanciar la clase con paréntesis) para crear una instancia de la clase. Luego, se pueden acceder a los atributos y métodos de la instancia utilizando la sintaxis de punto.\n",
    "\n",
    "Por ejemplo, si tenemos una clase llamada \"Coche\" que tiene atributos como \"marca\", \"modelo\" y \"color\", y métodos como \"acelerar\" y \"frenar\", podemos crear un objeto de la clase \"Coche\" utilizando la siguiente sintaxis:\n",
    "\n",
    "``````\n",
    "class Coche:\n",
    "    def __init__(self, marca, modelo, color):\n",
    "        self.marca = marca\n",
    "        self.modelo = modelo\n",
    "        self.color = color\n",
    "\n",
    "    def acelerar(self):\n",
    "        # código para acelerar el coche\n",
    "\n",
    "    def frenar(self):\n",
    "        # código para frenar el coche\n",
    "\n",
    "mi_coche = Coche(\"Toyota\", \"Corolla\", \"blanco\")\n",
    "``````"
   ]
  },
  {
   "attachments": {},
   "cell_type": "markdown",
   "metadata": {},
   "source": [
    "En este ejemplo, creamos una instancia de la clase \"Coche\" llamada \"mi_coche\" que tiene la marca \"Toyota\", el modelo \"Corolla\" y el color \"blanco\". Luego, podemos llamar a los métodos \"acelerar\" y \"frenar\" de la instancia utilizando la sintaxis de punto:\n",
    "````\n",
    "mi_coche.acelerar()\n",
    "mi_coche.frenar()\n",
    "`````\n",
    "\n"
   ]
  },
  {
   "attachments": {},
   "cell_type": "markdown",
   "metadata": {},
   "source": [
    "## Sistema de Venta de Bicicletas (Paradiga Funcional)\n",
    "\n",
    "Este código es un programa que simula un sistema de registro y venta de bicicletas. El programa tiene tres funciones definidas:\n",
    "\n",
    "La primera función, \"actualizar_precio_de_venta\", toma dos argumentos: \"bicicleta\" y \"precio_de_venta\". Si la bicicleta ya ha sido vendida, la función lanzará una excepción. Si no ha sido vendida, actualizará el precio de venta de la bicicleta con el valor proporcionado.\n",
    "\n",
    "La segunda función, \"crear_bicicleta\", toma cuatro argumentos: \"descripcion\", \"costo\", \"precio_de_venta\" y \"condicion\". La función crea un diccionario que representa una bicicleta con la información proporcionada y lo devuelve.\n",
    "\n",
    "La tercera función, \"vender\", toma un argumento: \"bicicleta\" y un argumento opcional \"vendida_por\". Si se proporciona un valor para \"vendida_por\", la función llama a \"actualizar_precio_de_venta\" para actualizar el precio de venta de la bicicleta. Luego, establece el valor \"vendida\" de la bicicleta como \"True\" y calcula la ganancia restando el costo del precio de venta. Finalmente, devuelve la ganancia."
   ]
  },
  {
   "cell_type": "code",
   "execution_count": 3,
   "metadata": {},
   "outputs": [
    {
     "name": "stdout",
     "output_type": "stream",
     "text": [
      "Tu ganancia fue de $250\n"
     ]
    }
   ],
   "source": [
    "def actualizar_precio_de_venta(bicicleta, precio_de_venta):\n",
    "    if bicicleta['vendida'] is True:\n",
    "        raise Exception(\"Acción no permitida. La bicicleta ya ha sido vendida.\")\n",
    "    bicicleta['precio_de_venta'] = precio_de_venta\n",
    "\n",
    "\n",
    "def crear_bicicleta(descripcion, costo, precio_de_venta, condicion):\n",
    "    return {\n",
    "        'descripcion': descripcion,\n",
    "        'costo': costo,\n",
    "        'precio_de_venta': precio_de_venta,\n",
    "        'condicion': condicion,\n",
    "        'vendida': False,\n",
    "    }\n",
    "\n",
    "\n",
    "def vender(bicicleta, vendida_por=None):\n",
    "    if vendida_por:\n",
    "        actualizar_precio_de_venta(bicicleta, vendida_por)\n",
    "    bicicleta['vendida'] = True\n",
    "    ganancia = bicicleta['precio_de_venta'] - bicicleta['costo']\n",
    "    return f\"Tu ganancia fue de ${ganancia}\"\n",
    "\n",
    "\n",
    "if __name__ == '__main__':\n",
    "    bicicleta1 = crear_bicicleta('Univega Alpina, naranja', costo=100, precio_de_venta=500, condicion=0.5)\n",
    "    # bicicleta1 = {\n",
    "    #         'costo': 100,\n",
    "    #         'condicion': 0.5,\n",
    "    #         'descripcion': 'Univega Alpina, naranja',\n",
    "    #         'precio_de_venta': 500,\n",
    "    #         'vendida': False,\n",
    "    #     }\n",
    "\n",
    "    actualizar_precio_de_venta(bicicleta1, 350)\n",
    "    # bicicleta1['precio_de_venta'] = 350.00\n",
    "\n",
    "    print(vender(bicicleta1))\n",
    "    # bicicleta1['vendida'] = True"
   ]
  },
  {
   "attachments": {},
   "cell_type": "markdown",
   "metadata": {},
   "source": [
    "## Sistema de Venta de Bicicletas (Paradigma Orientado a Objetos)"
   ]
  },
  {
   "attachments": {},
   "cell_type": "markdown",
   "metadata": {},
   "source": [
    "En Python, el método \"init\" es un método especial que se utiliza para inicializar los atributos de una instancia de una clase. Este método se llama automáticamente cuando se crea una nueva instancia de la clase y se utiliza para asignar valores a los atributos de la instancia.\n",
    "\n",
    "Cuando se crea una nueva instancia de una clase en Python, se llama al método \"init\" automáticamente, y el objeto de la instancia se pasa implícitamente como el primer argumento. Es decir, el objeto se pasa como \"self\" al constructor \"init\" para que se puedan inicializar los atributos de la instancia con los valores adecuados."
   ]
  },
  {
   "cell_type": "code",
   "execution_count": 11,
   "metadata": {},
   "outputs": [],
   "source": [
    "# Definición de la clase Bicicleta\n",
    "class Bicicleta:\n",
    "    # Constructor de la clase. Inicializa los atributos de la instancia.\n",
    "    def __init__(self, descripcion, costo, precio_de_venta, condicion):\n",
    "        self.descripcion = descripcion\n",
    "        self.costo = costo\n",
    "        self.precio_de_venta = precio_de_venta\n",
    "        self.condicion = condicion\n",
    "        self.vendida = False   # La bicicleta no ha sido vendida todavía\n",
    "    \n",
    "    # Método para actualizar el precio de venta de la bicicleta.\n",
    "    def actualizar_precio_de_venta(self, nuevo_precio_de_venta):\n",
    "        if self.vendida:   # Si la bicicleta ya ha sido vendida, se levanta una excepción.\n",
    "            raise Exception(\"Acción no permitida. La bicicleta ya ha sido vendida.\")\n",
    "        self.precio_de_venta = nuevo_precio_de_venta   # Actualiza el precio de venta de la bicicleta.\n",
    "    \n",
    "    # Método para marcar la bicicleta como vendida.\n",
    "    def vender(self, vendida_por=None):\n",
    "        if self.vendida:   # Si la bicicleta ya ha sido vendida, se levanta una excepción.\n",
    "            raise Exception(\"Acción no permitida. La bicicleta ya ha sido vendida.\")\n",
    "        if vendida_por:\n",
    "            # Si se especifica un nuevo precio de venta, se actualiza el precio de venta de la bicicleta.\n",
    "            self.actualizar_precio_de_venta(vendida_por)\n",
    "        self.vendida = True   # Marca la bicicleta como vendida.\n",
    "        ganancia = self.precio_de_venta - self.costo   # Calcula la ganancia como la diferencia entre el precio de venta y el costo.\n",
    "        return f\"Tu ganancia fue de ${ganancia}\"   # Devuelve una cadena de texto que indica la ganancia obtenida."
   ]
  },
  {
   "cell_type": "code",
   "execution_count": 13,
   "metadata": {},
   "outputs": [
    {
     "name": "stdout",
     "output_type": "stream",
     "text": [
      "600\n",
      "Tu ganancia fue de $500\n"
     ]
    }
   ],
   "source": [
    "# Creación de un objeto de la clase Bicicleta con los argumentos necesarios\n",
    "mi_bicicleta = Bicicleta('Univega Alpina, naranja',\n",
    "                          condicion= 0.5,\n",
    "                          precio_de_venta= 500,\n",
    "                          costo= 100)\n",
    "\n",
    "# Actualización del precio de venta de la bicicleta a $600\n",
    "mi_bicicleta.actualizar_precio_de_venta(nuevo_precio_de_venta=600)  \n",
    "\n",
    "# Imprime el precio de venta de la bicicleta, que ahora es $600\n",
    "print(mi_bicicleta.precio_de_venta)      \n",
    "\n",
    "# Marca la bicicleta como vendida y devuelve una cadena de texto que indica la ganancia obtenida.\n",
    "print(mi_bicicleta.vender())    "
   ]
  }
 ],
 "metadata": {
  "kernelspec": {
   "display_name": "env",
   "language": "python",
   "name": "python3"
  },
  "language_info": {
   "codemirror_mode": {
    "name": "ipython",
    "version": 3
   },
   "file_extension": ".py",
   "mimetype": "text/x-python",
   "name": "python",
   "nbconvert_exporter": "python",
   "pygments_lexer": "ipython3",
   "version": "3.9.12"
  },
  "orig_nbformat": 4
 },
 "nbformat": 4,
 "nbformat_minor": 2
}
