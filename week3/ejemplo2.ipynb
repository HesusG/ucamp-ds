{
 "cells": [
  {
   "attachments": {},
   "cell_type": "markdown",
   "metadata": {},
   "source": [
    "### Semana 3"
   ]
  },
  {
   "attachments": {},
   "cell_type": "markdown",
   "metadata": {},
   "source": [
    "Bienvenidos al cuaderno de Jupyter sobre Paquetes en Python, Pandas y Lectura de Ficheros.\n",
    "\n",
    "Python es uno de los lenguajes de programación más populares para el análisis de datos y la ciencia de datos, en gran parte debido a su amplia gama de bibliotecas y paquetes especializados. Una de estas bibliotecas es Pandas, una poderosa herramienta para el análisis de datos que proporciona estructuras de datos flexibles y de alto rendimiento.\n",
    "\n",
    "En este cuaderno, nos centraremos conocer los diversos paquetes que existen en Python.La lectura de ficheros con Pandas, que es una de las funcionalidades más utilizadas de esta biblioteca. Aprenderemos cómo leer diferentes tipos de ficheros, incluyendo CSV, Excel, y cómo cargarlos en estructuras de datos de Pandas para su posterior análisis y manipulación.\n",
    "\n",
    "¡Comencemos!"
   ]
  },
  {
   "attachments": {},
   "cell_type": "markdown",
   "metadata": {},
   "source": [
    "### Paquetes"
   ]
  },
  {
   "cell_type": "code",
   "execution_count": 2,
   "metadata": {},
   "outputs": [],
   "source": [
    "# Importamos los paquetes necesarios\n",
    "import pandas as pd  # Para el análisis y manipulación de datos\n",
    "import numpy as np  # Para operaciones numéricas\n",
    "import matplotlib.pyplot as plt  # Para la visualización de datos\n",
    "import seaborn as sns  # Para la visualización de datos avanzada\n",
    "import sklearn  # Para el modelado y análisis predictivo"
   ]
  },
  {
   "cell_type": "code",
   "execution_count": 3,
   "metadata": {},
   "outputs": [],
   "source": [
    "# configurar las opciones de impresión\n",
    "pd.set_option('display.max_columns', None)  # mostrar todas las columnas\n",
    "pd.set_option('display.max_rows', 10)  # mostrar solo las primeras 10 filas\n",
    "pd.set_option('display.width', None)  # ajustar automáticamente el ancho de las columnas\n",
    "pd.set_option('display.precision', 2)  # establecer la precisión de los números\n"
   ]
  },
  {
   "cell_type": "code",
   "execution_count": 4,
   "metadata": {},
   "outputs": [],
   "source": [
    "import warnings\n",
    "warnings.filterwarnings('ignore', category=FutureWarning)"
   ]
  },
  {
   "attachments": {},
   "cell_type": "markdown",
   "metadata": {},
   "source": [
    "### Pandas"
   ]
  },
  {
   "cell_type": "code",
   "execution_count": 5,
   "metadata": {},
   "outputs": [],
   "source": [
    "# crear un DataFrame\n",
    "data = {'Nombre': ['Juan', 'Maria', 'Pedro', 'Luis'],\n",
    "        'Edad': [25, 30, 35, 40],\n",
    "        'Ciudad': ['Madrid', 'Barcelona', 'Valencia', 'Sevilla']}\n",
    "df = pd.DataFrame(data)\n"
   ]
  },
  {
   "cell_type": "code",
   "execution_count": 6,
   "metadata": {},
   "outputs": [
    {
     "name": "stdout",
     "output_type": "stream",
     "text": [
      "  Nombre  Edad     Ciudad\n",
      "0   Juan    25     Madrid\n",
      "1  Maria    30  Barcelona\n",
      "2  Pedro    35   Valencia\n",
      "3   Luis    40    Sevilla\n"
     ]
    }
   ],
   "source": [
    "# mostrar el DataFrame\n",
    "print(df)"
   ]
  },
  {
   "cell_type": "code",
   "execution_count": 7,
   "metadata": {},
   "outputs": [
    {
     "data": {
      "text/html": [
       "<div>\n",
       "<style scoped>\n",
       "    .dataframe tbody tr th:only-of-type {\n",
       "        vertical-align: middle;\n",
       "    }\n",
       "\n",
       "    .dataframe tbody tr th {\n",
       "        vertical-align: top;\n",
       "    }\n",
       "\n",
       "    .dataframe thead th {\n",
       "        text-align: right;\n",
       "    }\n",
       "</style>\n",
       "<table border=\"1\" class=\"dataframe\">\n",
       "  <thead>\n",
       "    <tr style=\"text-align: right;\">\n",
       "      <th></th>\n",
       "      <th>Nombre</th>\n",
       "      <th>Edad</th>\n",
       "      <th>Ciudad</th>\n",
       "    </tr>\n",
       "  </thead>\n",
       "  <tbody>\n",
       "    <tr>\n",
       "      <th>0</th>\n",
       "      <td>Juan</td>\n",
       "      <td>25</td>\n",
       "      <td>Madrid</td>\n",
       "    </tr>\n",
       "    <tr>\n",
       "      <th>1</th>\n",
       "      <td>Maria</td>\n",
       "      <td>30</td>\n",
       "      <td>Barcelona</td>\n",
       "    </tr>\n",
       "    <tr>\n",
       "      <th>2</th>\n",
       "      <td>Pedro</td>\n",
       "      <td>35</td>\n",
       "      <td>Valencia</td>\n",
       "    </tr>\n",
       "    <tr>\n",
       "      <th>3</th>\n",
       "      <td>Luis</td>\n",
       "      <td>40</td>\n",
       "      <td>Sevilla</td>\n",
       "    </tr>\n",
       "  </tbody>\n",
       "</table>\n",
       "</div>"
      ],
      "text/plain": [
       "  Nombre  Edad     Ciudad\n",
       "0   Juan    25     Madrid\n",
       "1  Maria    30  Barcelona\n",
       "2  Pedro    35   Valencia\n",
       "3   Luis    40    Sevilla"
      ]
     },
     "execution_count": 7,
     "metadata": {},
     "output_type": "execute_result"
    }
   ],
   "source": [
    "df"
   ]
  },
  {
   "cell_type": "code",
   "execution_count": 8,
   "metadata": {},
   "outputs": [
    {
     "data": {
      "text/plain": [
       "0    25\n",
       "1    30\n",
       "2    35\n",
       "3    40\n",
       "Name: Edad, dtype: int64"
      ]
     },
     "execution_count": 8,
     "metadata": {},
     "output_type": "execute_result"
    }
   ],
   "source": [
    "# seleccionar una columna\n",
    "edades = df['Edad']\n",
    "edades"
   ]
  },
  {
   "cell_type": "code",
   "execution_count": 9,
   "metadata": {},
   "outputs": [
    {
     "data": {
      "text/html": [
       "<div>\n",
       "<style scoped>\n",
       "    .dataframe tbody tr th:only-of-type {\n",
       "        vertical-align: middle;\n",
       "    }\n",
       "\n",
       "    .dataframe tbody tr th {\n",
       "        vertical-align: top;\n",
       "    }\n",
       "\n",
       "    .dataframe thead th {\n",
       "        text-align: right;\n",
       "    }\n",
       "</style>\n",
       "<table border=\"1\" class=\"dataframe\">\n",
       "  <thead>\n",
       "    <tr style=\"text-align: right;\">\n",
       "      <th></th>\n",
       "      <th>Nombre</th>\n",
       "      <th>Edad</th>\n",
       "      <th>Ciudad</th>\n",
       "    </tr>\n",
       "  </thead>\n",
       "  <tbody>\n",
       "    <tr>\n",
       "      <th>2</th>\n",
       "      <td>Pedro</td>\n",
       "      <td>35</td>\n",
       "      <td>Valencia</td>\n",
       "    </tr>\n",
       "    <tr>\n",
       "      <th>3</th>\n",
       "      <td>Luis</td>\n",
       "      <td>40</td>\n",
       "      <td>Sevilla</td>\n",
       "    </tr>\n",
       "  </tbody>\n",
       "</table>\n",
       "</div>"
      ],
      "text/plain": [
       "  Nombre  Edad    Ciudad\n",
       "2  Pedro    35  Valencia\n",
       "3   Luis    40   Sevilla"
      ]
     },
     "execution_count": 9,
     "metadata": {},
     "output_type": "execute_result"
    }
   ],
   "source": [
    "# filtrar filas por una condición\n",
    "mayores = df[df['Edad'] > 30]\n",
    "mayores"
   ]
  },
  {
   "cell_type": "code",
   "execution_count": 10,
   "metadata": {},
   "outputs": [
    {
     "data": {
      "text/html": [
       "<div>\n",
       "<style scoped>\n",
       "    .dataframe tbody tr th:only-of-type {\n",
       "        vertical-align: middle;\n",
       "    }\n",
       "\n",
       "    .dataframe tbody tr th {\n",
       "        vertical-align: top;\n",
       "    }\n",
       "\n",
       "    .dataframe thead th {\n",
       "        text-align: right;\n",
       "    }\n",
       "</style>\n",
       "<table border=\"1\" class=\"dataframe\">\n",
       "  <thead>\n",
       "    <tr style=\"text-align: right;\">\n",
       "      <th></th>\n",
       "      <th>Nombre</th>\n",
       "      <th>Edad</th>\n",
       "      <th>Ciudad</th>\n",
       "      <th>Profesion</th>\n",
       "    </tr>\n",
       "  </thead>\n",
       "  <tbody>\n",
       "    <tr>\n",
       "      <th>0</th>\n",
       "      <td>Juan</td>\n",
       "      <td>25</td>\n",
       "      <td>Madrid</td>\n",
       "      <td>Ingeniero</td>\n",
       "    </tr>\n",
       "    <tr>\n",
       "      <th>1</th>\n",
       "      <td>Maria</td>\n",
       "      <td>30</td>\n",
       "      <td>Barcelona</td>\n",
       "      <td>Abogado</td>\n",
       "    </tr>\n",
       "    <tr>\n",
       "      <th>2</th>\n",
       "      <td>Pedro</td>\n",
       "      <td>35</td>\n",
       "      <td>Valencia</td>\n",
       "      <td>Profesor</td>\n",
       "    </tr>\n",
       "    <tr>\n",
       "      <th>3</th>\n",
       "      <td>Luis</td>\n",
       "      <td>40</td>\n",
       "      <td>Sevilla</td>\n",
       "      <td>Médico</td>\n",
       "    </tr>\n",
       "  </tbody>\n",
       "</table>\n",
       "</div>"
      ],
      "text/plain": [
       "  Nombre  Edad     Ciudad  Profesion\n",
       "0   Juan    25     Madrid  Ingeniero\n",
       "1  Maria    30  Barcelona    Abogado\n",
       "2  Pedro    35   Valencia   Profesor\n",
       "3   Luis    40    Sevilla     Médico"
      ]
     },
     "execution_count": 10,
     "metadata": {},
     "output_type": "execute_result"
    }
   ],
   "source": [
    "# agregar una columna\n",
    "df['Profesion'] = ['Ingeniero', 'Abogado', 'Profesor', 'Médico']\n",
    "df\n"
   ]
  },
  {
   "cell_type": "code",
   "execution_count": 11,
   "metadata": {},
   "outputs": [
    {
     "data": {
      "text/html": [
       "<div>\n",
       "<style scoped>\n",
       "    .dataframe tbody tr th:only-of-type {\n",
       "        vertical-align: middle;\n",
       "    }\n",
       "\n",
       "    .dataframe tbody tr th {\n",
       "        vertical-align: top;\n",
       "    }\n",
       "\n",
       "    .dataframe thead th {\n",
       "        text-align: right;\n",
       "    }\n",
       "</style>\n",
       "<table border=\"1\" class=\"dataframe\">\n",
       "  <thead>\n",
       "    <tr style=\"text-align: right;\">\n",
       "      <th></th>\n",
       "      <th>Edad</th>\n",
       "    </tr>\n",
       "    <tr>\n",
       "      <th>Ciudad</th>\n",
       "      <th></th>\n",
       "    </tr>\n",
       "  </thead>\n",
       "  <tbody>\n",
       "    <tr>\n",
       "      <th>Barcelona</th>\n",
       "      <td>30.0</td>\n",
       "    </tr>\n",
       "    <tr>\n",
       "      <th>Madrid</th>\n",
       "      <td>25.0</td>\n",
       "    </tr>\n",
       "    <tr>\n",
       "      <th>Sevilla</th>\n",
       "      <td>40.0</td>\n",
       "    </tr>\n",
       "    <tr>\n",
       "      <th>Valencia</th>\n",
       "      <td>35.0</td>\n",
       "    </tr>\n",
       "  </tbody>\n",
       "</table>\n",
       "</div>"
      ],
      "text/plain": [
       "           Edad\n",
       "Ciudad         \n",
       "Barcelona  30.0\n",
       "Madrid     25.0\n",
       "Sevilla    40.0\n",
       "Valencia   35.0"
      ]
     },
     "execution_count": 11,
     "metadata": {},
     "output_type": "execute_result"
    }
   ],
   "source": [
    "# agrupar y resumir datos\n",
    "promedios = df.groupby('Ciudad').mean()\n",
    "promedios"
   ]
  },
  {
   "cell_type": "code",
   "execution_count": 12,
   "metadata": {},
   "outputs": [
    {
     "data": {
      "text/plain": [
       "array([[<Axes: title={'center': 'setosa'}>,\n",
       "        <Axes: title={'center': 'versicolor'}>],\n",
       "       [<Axes: title={'center': 'virginica'}>, <Axes: >]], dtype=object)"
      ]
     },
     "execution_count": 12,
     "metadata": {},
     "output_type": "execute_result"
    },
    {
     "data": {
      "image/png": "[encoded data removed]",
      "text/plain": [
       "<Figure size 640x480 with 4 Axes>"
      ]
     },
     "metadata": {},
     "output_type": "display_data"
    }
   ],
   "source": [
    "# cargar el dataset iris\n",
    "iris = sns.load_dataset('iris')\n",
    "\n",
    "# crear un DataFrame de Pandas a partir del dataset\n",
    "df = pd.DataFrame(iris)\n",
    "\n",
    "# histograma de las longitudes de pétalo para cada especie\n",
    "df.hist(column='petal_length', by='species')\n"
   ]
  },
  {
   "attachments": {},
   "cell_type": "markdown",
   "metadata": {},
   "source": [
    "### Leer Ficheros"
   ]
  },
  {
   "cell_type": "code",
   "execution_count": 15,
   "metadata": {},
   "outputs": [
    {
     "name": "stdout",
     "output_type": "stream",
     "text": [
      "Primeras 5 filas del archivo:\n",
      "   GroupAN            GroupId  Year       DateTimeStart         DateTimeEnd  \\\n",
      "0        4  NM-2013-06-06-001  2013 2013-06-06 17:29:00 2013-06-06 18:31:00   \n",
      "1        5  NM-2013-06-06-002  2013 2013-06-06 18:34:00 2013-06-06 19:10:00   \n",
      "2        6  NM-2013-06-06-003  2013 2013-06-06 19:10:00 2013-06-06 19:10:00   \n",
      "3        7  NM-2013-06-06-004  2013 2013-06-06 21:43:00 2013-06-06 21:50:00   \n",
      "4        8  NM-2013-06-06-005  2013 2013-06-06 21:43:00 2013-06-06 21:50:00   \n",
      "\n",
      "   Latitude  Longitude                                           Observer  \\\n",
      "0     62.47    -168.78  John Citta, Mary Cody, Chadwick Jay, Mark Nels...   \n",
      "1     62.47    -168.78  John Citta, Mary Cody, Chadwick Jay, Mark Nels...   \n",
      "2     62.47    -168.78  John Citta, Mary Cody, Chadwick Jay, Mark Nels...   \n",
      "3     62.52    -168.76  John Citta, Mary Cody, Chadwick Jay, Mark Nels...   \n",
      "4     62.52    -168.76  John Citta, Mary Cody, Chadwick Jay, Mark Nels...   \n",
      "\n",
      "   IceConcentration      IceForm  DistanceToGroup  FlightDistance  \\\n",
      "0               0.3  Medium Floe            400.0           280.0   \n",
      "1               0.3  Medium Floe            223.0           200.0   \n",
      "2               0.3  Medium Floe            200.0             NaN   \n",
      "3               0.1   Small Floe            218.0           218.0   \n",
      "4               0.1   Small Floe            218.0           218.0   \n",
      "\n",
      "   ApproachDirection  GroupSize GroupSizingMethod  MMPAtake  \\\n",
      "0              315.0       42.0             Count      42.0   \n",
      "1              315.0       29.0             Count      29.0   \n",
      "2              315.0        2.0             Count       0.0   \n",
      "3               70.0        2.0             Count       1.0   \n",
      "4               70.0        2.0             Count       1.0   \n",
      "\n",
      "  ObservationPlatform  0_Calves  1_Yearlings  2_Year  3_Year  4-5_Year  U_juv  \\\n",
      "0                  NM       5.0          1.0     5.0     7.0       8.0    NaN   \n",
      "1                  NM       5.0          2.0     4.0     2.0       5.0    NaN   \n",
      "2                  NM       0.0          0.0     0.0     0.0       0.0    NaN   \n",
      "3                  NM       0.0          0.0     0.0     1.0       1.0    NaN   \n",
      "4                  NM       0.0          1.0     0.0     0.0       0.0    NaN   \n",
      "\n",
      "   M_6-9  M_10-15  M_15+  M_6+  F_6-9  F_10-15  F_15+  F_6+  U_6+  UU  \\\n",
      "0    1.0      0.0    0.0   0.0    0.0      2.0    1.0  12.0   0.0 NaN   \n",
      "1    1.0      0.0    0.0   2.0    3.0      1.0    1.0   3.0   0.0 NaN   \n",
      "2    0.0      1.0    1.0   0.0    0.0      0.0    0.0   0.0   0.0 NaN   \n",
      "3    0.0      0.0    0.0   0.0    0.0      0.0    0.0   0.0   0.0 NaN   \n",
      "4    0.0      0.0    0.0   0.0    0.0      0.0    1.0   0.0   0.0 NaN   \n",
      "\n",
      "   AllScored  \n",
      "0       True  \n",
      "1       True  \n",
      "2       True  \n",
      "3       True  \n",
      "4       True  \n",
      "Información general del archivo:\n",
      "<class 'pandas.core.frame.DataFrame'>\n",
      "RangeIndex: 2082 entries, 0 to 2081\n",
      "Data columns (total 34 columns):\n",
      " #   Column               Non-Null Count  Dtype         \n",
      "---  ------               --------------  -----         \n",
      " 0   GroupAN              2082 non-null   int64         \n",
      " 1   GroupId              2082 non-null   object        \n",
      " 2   Year                 2082 non-null   int64         \n",
      " 3   DateTimeStart        2082 non-null   datetime64[ns]\n",
      " 4   DateTimeEnd          1363 non-null   datetime64[ns]\n",
      " 5   Latitude             2037 non-null   float64       \n",
      " 6   Longitude            2037 non-null   float64       \n",
      " 7   Observer             2082 non-null   object        \n",
      " 8   IceConcentration     111 non-null    float64       \n",
      " 9   IceForm              58 non-null     object        \n",
      " 10  DistanceToGroup      1489 non-null   float64       \n",
      " 11  FlightDistance       1222 non-null   float64       \n",
      " 12  ApproachDirection    119 non-null    float64       \n",
      " 13  GroupSize            2072 non-null   float64       \n",
      " 14  GroupSizingMethod    534 non-null    object        \n",
      " 15  MMPAtake             2030 non-null   float64       \n",
      " 16  ObservationPlatform  2050 non-null   object        \n",
      " 17  0_Calves             1393 non-null   float64       \n",
      " 18  1_Yearlings          1335 non-null   float64       \n",
      " 19  2_Year               1400 non-null   float64       \n",
      " 20  3_Year               1374 non-null   float64       \n",
      " 21  4-5_Year             1376 non-null   float64       \n",
      " 22  U_juv                609 non-null    float64       \n",
      " 23  M_6-9                1179 non-null   float64       \n",
      " 24  M_10-15              1135 non-null   float64       \n",
      " 25  M_15+                1124 non-null   float64       \n",
      " 26  M_6+                 1211 non-null   float64       \n",
      " 27  F_6-9                1259 non-null   float64       \n",
      " 28  F_10-15              1245 non-null   float64       \n",
      " 29  F_15+                1341 non-null   float64       \n",
      " 30  F_6+                 1510 non-null   float64       \n",
      " 31  U_6+                 1090 non-null   float64       \n",
      " 32  UU                   635 non-null    float64       \n",
      " 33  AllScored            2082 non-null   bool          \n",
      "dtypes: bool(1), datetime64[ns](2), float64(24), int64(2), object(5)\n",
      "memory usage: 538.9+ KB\n",
      "None\n",
      "Estadísticas descriptivas del archivo:\n",
      "       GroupAN     Year  Latitude  Longitude  IceConcentration  \\\n",
      "count  2082.00  2082.00   2037.00    2037.00            111.00   \n",
      "mean   1111.26  2014.20     69.20    -166.55              0.42   \n",
      "std     629.18     0.82      1.93       3.37              0.24   \n",
      "min       4.00  2013.00     62.35    -176.95              0.10   \n",
      "25%     558.25  2013.00     67.95    -168.91              0.30   \n",
      "50%    1120.50  2014.00     69.56    -166.09              0.30   \n",
      "75%    1655.75  2015.00     70.53    -163.42              0.60   \n",
      "max    2181.00  2015.00     71.86    -160.87              0.90   \n",
      "\n",
      "       DistanceToGroup  FlightDistance  ApproachDirection  GroupSize  \\\n",
      "count          1489.00         1222.00             119.00    2072.00   \n",
      "mean            171.90          134.60             218.26       5.48   \n",
      "std             155.79          126.67              93.23       6.29   \n",
      "min               2.00            0.00               1.00       1.00   \n",
      "25%              30.00           28.00             171.50       2.00   \n",
      "50%             126.00          100.00             238.00       4.00   \n",
      "75%             260.00          200.00             290.00       6.00   \n",
      "max            1200.00         1098.00             359.00      69.00   \n",
      "\n",
      "       MMPAtake  0_Calves  1_Yearlings   2_Year   3_Year  4-5_Year   U_juv  \\\n",
      "count   2030.00   1393.00      1335.00  1400.00  1374.00   1376.00  609.00   \n",
      "mean       4.68      0.82         0.70     0.61     0.69      0.64    0.04   \n",
      "std        5.87      1.43         1.01     0.88     0.99      0.92    0.24   \n",
      "min        0.00      0.00         0.00     0.00     0.00      0.00    0.00   \n",
      "25%        2.00      0.00         0.00     0.00     0.00      0.00    0.00   \n",
      "50%        3.00      0.00         0.00     0.00     0.00      0.00    0.00   \n",
      "75%        6.00      1.00         1.00     1.00     1.00      1.00    0.00   \n",
      "max       62.00     22.00        10.00     7.00     8.00      8.00    2.00   \n",
      "\n",
      "         M_6-9  M_10-15    M_15+     M_6+    F_6-9  F_10-15    F_15+     F_6+  \\\n",
      "count  1179.00  1135.00  1124.00  1211.00  1259.00  1245.00  1341.00  1510.00   \n",
      "mean      0.16     0.10     0.09     0.37     0.40     0.50     0.68     2.00   \n",
      "std       0.46     0.38     0.38     1.07     0.65     0.73     0.96     3.61   \n",
      "min       0.00     0.00     0.00     0.00     0.00     0.00     0.00     0.00   \n",
      "25%       0.00     0.00     0.00     0.00     0.00     0.00     0.00     0.00   \n",
      "50%       0.00     0.00     0.00     0.00     0.00     0.00     0.00     1.00   \n",
      "75%       0.00     0.00     0.00     0.00     1.00     1.00     1.00     2.00   \n",
      "max       4.00     5.00     3.00    11.00     5.00     5.00     8.00    48.00   \n",
      "\n",
      "          U_6+      UU  \n",
      "count  1090.00  635.00  \n",
      "mean      0.04    0.39  \n",
      "std       0.42    1.67  \n",
      "min       0.00    0.00  \n",
      "25%       0.00    0.00  \n",
      "50%       0.00    0.00  \n",
      "75%       0.00    0.00  \n",
      "max      10.00   20.00  \n"
     ]
    }
   ],
   "source": [
    "df = pd.read_excel(\"Walrus_Group.xlsx\")\n",
    "\n",
    "# Mostrar las primeras filas del archivo\n",
    "print(\"Primeras 5 filas del archivo:\")\n",
    "print(df.head())\n",
    "\n",
    "# Mostrar información general del archivo\n",
    "print(\"Información general del archivo:\")\n",
    "print(df.info())\n",
    "\n",
    "# Mostrar estadísticas descriptivas del archivo\n",
    "print(\"Estadísticas descriptivas del archivo:\")\n",
    "print(df.describe())\n"
   ]
  }
 ],
 "metadata": {
  "kernelspec": {
   "display_name": "env",
   "language": "python",
   "name": "python3"
  },
  "language_info": {
   "codemirror_mode": {
    "name": "ipython",
    "version": 3
   },
   "file_extension": ".py",
   "mimetype": "text/x-python",
   "name": "python",
   "nbconvert_exporter": "python",
   "pygments_lexer": "ipython3",
   "version": "3.9.12"
  },
  "orig_nbformat": 4
 },
 "nbformat": 4,
 "nbformat_minor": 2
}
